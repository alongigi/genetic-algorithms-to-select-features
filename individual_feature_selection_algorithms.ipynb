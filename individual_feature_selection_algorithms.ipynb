{
 "nbformat": 4,
 "nbformat_minor": 0,
 "metadata": {
  "colab": {
   "provenance": [],
   "authorship_tag": "ABX9TyPM9J21Q4mXJzk9t5V/hJrX"
  },
  "kernelspec": {
   "name": "python3",
   "display_name": "Python 3 (ipykernel)",
   "language": "python"
  },
  "language_info": {
   "name": "python"
  }
 },
 "cells": [
  {
   "cell_type": "code",
   "metadata": {
    "colab": {
     "base_uri": "https://localhost:8080/"
    },
    "id": "Askn1naxHZmU",
    "executionInfo": {
     "status": "ok",
     "timestamp": 1737710235305,
     "user_tz": -120,
     "elapsed": 3673,
     "user": {
      "displayName": "תומר וסרמן",
      "userId": "13570990899464465396"
     }
    },
    "outputId": "3919f3e4-2ad3-4959-bbe6-1bca9704beeb",
    "ExecuteTime": {
     "end_time": "2025-01-24T17:10:27.408859Z",
     "start_time": "2025-01-24T17:10:25.799498Z"
    }
   },
   "source": [
    "!pip install ucimlrepo"
   ],
   "outputs": [
    {
     "name": "stdout",
     "output_type": "stream",
     "text": [
      "Requirement already satisfied: ucimlrepo in c:\\users\\aviv metz\\miniconda3\\lib\\site-packages (0.0.7)\n",
      "Requirement already satisfied: pandas>=1.0.0 in c:\\users\\aviv metz\\miniconda3\\lib\\site-packages (from ucimlrepo) (2.2.3)\n",
      "Requirement already satisfied: certifi>=2020.12.5 in c:\\users\\aviv metz\\miniconda3\\lib\\site-packages (from ucimlrepo) (2024.12.14)\n",
      "Requirement already satisfied: numpy>=1.26.0 in c:\\users\\aviv metz\\miniconda3\\lib\\site-packages (from pandas>=1.0.0->ucimlrepo) (2.2.0)\n",
      "Requirement already satisfied: python-dateutil>=2.8.2 in c:\\users\\aviv metz\\miniconda3\\lib\\site-packages (from pandas>=1.0.0->ucimlrepo) (2.9.0.post0)\n",
      "Requirement already satisfied: pytz>=2020.1 in c:\\users\\aviv metz\\miniconda3\\lib\\site-packages (from pandas>=1.0.0->ucimlrepo) (2024.1)\n",
      "Requirement already satisfied: tzdata>=2022.7 in c:\\users\\aviv metz\\miniconda3\\lib\\site-packages (from pandas>=1.0.0->ucimlrepo) (2023.3)\n",
      "Requirement already satisfied: six>=1.5 in c:\\users\\aviv metz\\miniconda3\\lib\\site-packages (from python-dateutil>=2.8.2->pandas>=1.0.0->ucimlrepo) (1.16.0)\n"
     ]
    }
   ],
   "execution_count": 18
  },
  {
   "cell_type": "code",
   "source": [
    "import pandas as pd\n",
    "import numpy as np\n",
    "from ucimlrepo import fetch_ucirepo\n",
    "from sklearn.preprocessing import MinMaxScaler\n",
    "from sklearn.model_selection import train_test_split\n",
    "from sklearn.ensemble import RandomForestClassifier\n",
    "from sklearn.metrics import accuracy_score, classification_report\n",
    "from sklearn.feature_selection import SelectKBest"
   ],
   "metadata": {
    "id": "CeNLwRfGHPGj",
    "executionInfo": {
     "status": "ok",
     "timestamp": 1737710235305,
     "user_tz": -120,
     "elapsed": 3,
     "user": {
      "displayName": "תומר וסרמן",
      "userId": "13570990899464465396"
     }
    },
    "ExecuteTime": {
     "end_time": "2025-01-24T17:10:27.415078Z",
     "start_time": "2025-01-24T17:10:27.411852Z"
    }
   },
   "outputs": [],
   "execution_count": 19
  },
  {
   "cell_type": "code",
   "source": [
    "# Read first dataset\n",
    "isolet = fetch_ucirepo(id=54)\n",
    "\n",
    "features = isolet.data.features\n",
    "target_variables = isolet.data.targets"
   ],
   "metadata": {
    "id": "GhoKtv7bw0zG",
    "executionInfo": {
     "status": "ok",
     "timestamp": 1737710237867,
     "user_tz": -120,
     "elapsed": 2564,
     "user": {
      "displayName": "תומר וסרמן",
      "userId": "13570990899464465396"
     }
    },
    "ExecuteTime": {
     "end_time": "2025-01-24T17:10:37.523726Z",
     "start_time": "2025-01-24T17:10:27.461523Z"
    }
   },
   "outputs": [],
   "execution_count": 20
  },
  {
   "cell_type": "code",
   "source": [
    "# Print missing values and maximum and minimum values in the features of the first dataset\n",
    "X_df = pd.DataFrame(features)\n",
    "y_df = pd.DataFrame(target_variables)\n",
    "\n",
    "print(\"Missing values in X:\", X_df.isnull().sum().sum())\n",
    "print(\"Missing values in y:\", y_df.isnull().sum().sum())\n",
    "\n",
    "print(\"Minimum value across all features:\", X_df.min().min())\n",
    "print(\"Maximum value across all features:\", X_df.max().max())"
   ],
   "metadata": {
    "id": "8xWFEramzQWL",
    "executionInfo": {
     "status": "ok",
     "timestamp": 1737710237867,
     "user_tz": -120,
     "elapsed": 7,
     "user": {
      "displayName": "תומר וסרמן",
      "userId": "13570990899464465396"
     }
    },
    "colab": {
     "base_uri": "https://localhost:8080/"
    },
    "outputId": "5b02e4a3-3f13-4fd7-a20e-e0b217a91efb",
    "ExecuteTime": {
     "end_time": "2025-01-24T17:10:37.599057Z",
     "start_time": "2025-01-24T17:10:37.574775Z"
    }
   },
   "outputs": [
    {
     "name": "stdout",
     "output_type": "stream",
     "text": [
      "Missing values in X: 0\n",
      "Missing values in y: 0\n",
      "Minimum value across all features: -1.0\n",
      "Maximum value across all features: 1.0\n"
     ]
    }
   ],
   "execution_count": 21
  },
  {
   "cell_type": "code",
   "source": [
    "# Normalize the first dataset\n",
    "scaler = MinMaxScaler()\n",
    "X_scaled = scaler.fit_transform(X_df)\n",
    "\n",
    "X_scaled_df = pd.DataFrame(X_scaled, columns=X_df.columns)\n",
    "\n",
    "print(X_scaled_df.min().min())\n",
    "print(X_scaled_df.max().max())"
   ],
   "metadata": {
    "colab": {
     "base_uri": "https://localhost:8080/"
    },
    "id": "pZ5rMZL_e4Pa",
    "executionInfo": {
     "status": "ok",
     "timestamp": 1737710237868,
     "user_tz": -120,
     "elapsed": 6,
     "user": {
      "displayName": "תומר וסרמן",
      "userId": "13570990899464465396"
     }
    },
    "outputId": "3aba8309-e5c9-4a8c-efed-8c9a223258ae",
    "ExecuteTime": {
     "end_time": "2025-01-24T17:10:37.698428Z",
     "start_time": "2025-01-24T17:10:37.649835Z"
    }
   },
   "outputs": [
    {
     "name": "stdout",
     "output_type": "stream",
     "text": [
      "0.0\n",
      "1.0000000000000002\n"
     ]
    }
   ],
   "execution_count": 22
  },
  {
   "cell_type": "code",
   "source": [
    "# # Read second dataset\n",
    "# spambase = fetch_ucirepo(id=94)\n",
    "\n",
    "# X = spambase.data.features\n",
    "# y = spambase.data.targets"
   ],
   "metadata": {
    "id": "Y3632T4akePZ",
    "executionInfo": {
     "status": "ok",
     "timestamp": 1737710237868,
     "user_tz": -120,
     "elapsed": 5,
     "user": {
      "displayName": "תומר וסרמן",
      "userId": "13570990899464465396"
     }
    },
    "ExecuteTime": {
     "end_time": "2025-01-24T17:10:37.802455Z",
     "start_time": "2025-01-24T17:10:37.799679Z"
    }
   },
   "outputs": [],
   "execution_count": 23
  },
  {
   "cell_type": "code",
   "source": [
    "# # Print missing values and maximum and minimum values in the features of the second dataset\n",
    "\n",
    "# X_df = pd.DataFrame(X)\n",
    "# y_df = pd.DataFrame(y)\n",
    "\n",
    "# print(\"Missing values in X:\", X_df.isnull().sum().sum())\n",
    "# print(\"Missing values in y:\", y_df.isnull().sum().sum())\n",
    "\n",
    "\n",
    "# print(\"Minimum value across all features:\", X_df.min().min())\n",
    "# print(\"Maximum value across all features:\", X_df.max().max())"
   ],
   "metadata": {
    "id": "rEtLDi40khHC",
    "executionInfo": {
     "status": "ok",
     "timestamp": 1737710237868,
     "user_tz": -120,
     "elapsed": 5,
     "user": {
      "displayName": "תומר וסרמן",
      "userId": "13570990899464465396"
     }
    },
    "ExecuteTime": {
     "end_time": "2025-01-24T17:10:37.861157Z",
     "start_time": "2025-01-24T17:10:37.858165Z"
    }
   },
   "outputs": [],
   "execution_count": 24
  },
  {
   "metadata": {
    "ExecuteTime": {
     "end_time": "2025-01-24T17:10:37.929138Z",
     "start_time": "2025-01-24T17:10:37.918596Z"
    }
   },
   "cell_type": "code",
   "source": [
    "# # Normalize the second dataset\n",
    "# scaler = MinMaxScaler()\n",
    "# X_scaled = scaler.fit_transform(X_df)\n",
    "\n",
    "# X_scaled_df = pd.DataFrame(X_scaled, columns=X_df.columns)\n",
    "\n",
    "# print(X_scaled_df.min().min())\n",
    "# print(X_scaled_df.max().max())\n"
   ],
   "outputs": [
    {
     "name": "stdout",
     "output_type": "stream",
     "text": [
      "features before witchery:       Attribute1  Attribute2  Attribute3  Attribute4  Attribute5  Attribute6  \\\n",
      "0        -0.4394     -0.0930      0.1718      0.4620      0.6226      0.4704   \n",
      "1        -0.4348     -0.1198      0.2474      0.4036      0.5026      0.6328   \n",
      "2        -0.2330      0.2124      0.5014      0.5222     -0.3422     -0.5840   \n",
      "3        -0.3808     -0.0096      0.2602      0.2554     -0.4290     -0.6746   \n",
      "4        -0.3412      0.0946      0.6082      0.6216     -0.1622     -0.3784   \n",
      "...          ...         ...         ...         ...         ...         ...   \n",
      "7792     -0.6842     -0.3280     -0.1984      0.2956      0.8786      0.8948   \n",
      "7793     -0.5912     -0.2420      0.8174      1.0000      0.4642      0.6428   \n",
      "7794     -0.6696     -0.3730      0.1584      0.8910      1.0000      0.9762   \n",
      "7795     -0.5764     -0.1764      0.5106      0.3742     -0.1670     -0.5858   \n",
      "7796     -0.6624     -0.3334      0.3666      0.4292     -0.2084     -0.5374   \n",
      "\n",
      "      Attribute7  Attribute8  Attribute9  Attribute10  ...  Attribute608  \\\n",
      "0         0.3578      0.0478     -0.1184      -0.2310  ...        0.3334   \n",
      "1         0.4948      0.0338     -0.0520      -0.1302  ...        0.2272   \n",
      "2        -0.7168     -0.6342     -0.8614      -0.8318  ...        0.0952   \n",
      "3        -0.6868     -0.6650     -0.8410      -0.9614  ...        0.0648   \n",
      "4        -0.4324     -0.4358     -0.4966      -0.5406  ...        0.2812   \n",
      "...          ...         ...         ...          ...  ...           ...   \n",
      "7792      0.3118      0.1822      0.1012       0.1740  ...        0.8928   \n",
      "7793      0.6944      0.3056     -0.3888      -0.6826  ...        0.0192   \n",
      "7794      0.9762      0.7684      0.4106       0.0154  ...        0.0000   \n",
      "7795     -0.7882     -0.7224     -0.6330      -0.8212  ...        0.3044   \n",
      "7796     -0.4542     -0.6208     -0.6376      -0.5042  ...        0.1056   \n",
      "\n",
      "      Attribute609  Attribute610  Attribute611  Attribute612  Attribute613  \\\n",
      "0           0.4102        0.2052        0.3846        0.3590        0.5898   \n",
      "1           0.0000        0.2954        0.2046        0.4772        0.0454   \n",
      "2          -0.1112       -0.0476       -0.1746        0.0318       -0.0476   \n",
      "3          -0.0504       -0.0360       -0.1224        0.1366        0.2950   \n",
      "4           0.1562        0.3124        0.2500       -0.0938        0.1562   \n",
      "...            ...           ...           ...           ...           ...   \n",
      "7792        0.7738        0.7738        0.7142        0.6428        0.5952   \n",
      "7793        0.1924       -0.1154        0.0192        0.2116       -0.0384   \n",
      "7794        0.0910        0.1818        0.2000        0.1454        0.0182   \n",
      "7795        0.4130        0.5870        0.4348        0.5652        0.3478   \n",
      "7796        0.2520        0.2846        0.4146        0.3170        0.2520   \n",
      "\n",
      "      Attribute614  Attribute615  Attribute616  Attribute617  \n",
      "0           0.3334        0.6410        0.5898       -0.4872  \n",
      "1           0.2046        0.4318        0.4546       -0.0910  \n",
      "2           0.1112        0.2540        0.1588       -0.4762  \n",
      "3           0.0792       -0.0072        0.0936       -0.1510  \n",
      "4           0.3124        0.3124        0.2188       -0.2500  \n",
      "...            ...           ...           ...           ...  \n",
      "7792        0.5714        0.3928        0.4286        0.2858  \n",
      "7793        0.0192       -0.2308       -0.4230       -0.7116  \n",
      "7794       -0.2910        0.0728        0.0728       -0.5818  \n",
      "7795       -0.0434        0.3044       -0.0434       -0.5000  \n",
      "7796       -0.0244       -0.0894       -0.1708       -0.3170  \n",
      "\n",
      "[7797 rows x 617 columns]\n",
      "features before witchery:       class\n",
      "0       1.0\n",
      "1       1.0\n",
      "2       2.0\n",
      "3       2.0\n",
      "4       3.0\n",
      "...     ...\n",
      "7792   24.0\n",
      "7793   25.0\n",
      "7794   25.0\n",
      "7795   26.0\n",
      "7796   26.0\n",
      "\n",
      "[7797 rows x 1 columns]\n"
     ]
    }
   ],
   "execution_count": 26
  },
  {
   "metadata": {
    "ExecuteTime": {
     "end_time": "2025-01-24T17:10:52.129214Z",
     "start_time": "2025-01-24T17:10:52.119425Z"
    }
   },
   "cell_type": "code",
   "source": [
    "features = X_scaled_df\n",
    "target_variables = y_df.values.ravel()\n"
   ],
   "outputs": [
    {
     "name": "stdout",
     "output_type": "stream",
     "text": [
      "features after witchery:       Attribute1  Attribute2  Attribute3  Attribute4  Attribute5  Attribute6  \\\n",
      "0         0.2803    0.422488    0.580701    0.726626    0.810979      0.7352   \n",
      "1         0.2826    0.408327    0.618975    0.696951    0.750876      0.8164   \n",
      "2         0.3835    0.583853    0.747570    0.757215    0.327757      0.2080   \n",
      "3         0.3096    0.466554    0.625456    0.621646    0.284283      0.1627   \n",
      "4         0.3294    0.521610    0.801640    0.807724    0.417910      0.3108   \n",
      "...          ...         ...         ...         ...         ...         ...   \n",
      "7792      0.1579    0.298320    0.393277    0.642073    0.939197      0.9474   \n",
      "7793      0.2044    0.343760    0.907554    1.000000    0.731644      0.8214   \n",
      "7794      0.1652    0.274543    0.573917    0.944614    1.000000      0.9881   \n",
      "7795      0.2118    0.378421    0.752228    0.682012    0.415506      0.2071   \n",
      "7796      0.1688    0.295467    0.679324    0.709959    0.394771      0.2313   \n",
      "\n",
      "      Attribute7  Attribute8  Attribute9  Attribute10  ...  Attribute608  \\\n",
      "0         0.6789      0.5239      0.4408       0.3845  ...      0.585808   \n",
      "1         0.7474      0.5169      0.4740       0.4349  ...      0.519821   \n",
      "2         0.1416      0.1829      0.0693       0.0841  ...      0.437803   \n",
      "3         0.1566      0.1675      0.0795       0.0193  ...      0.418914   \n",
      "4         0.2838      0.2821      0.2517       0.2297  ...      0.553374   \n",
      "...          ...         ...         ...          ...  ...           ...   \n",
      "7792      0.6559      0.5911      0.5506       0.5870  ...      0.933391   \n",
      "7793      0.8472      0.6528      0.3056       0.1587  ...      0.390580   \n",
      "7794      0.9881      0.8842      0.7053       0.5077  ...      0.378650   \n",
      "7795      0.1059      0.1388      0.1835       0.0894  ...      0.567789   \n",
      "7796      0.2729      0.1896      0.1812       0.2479  ...      0.444265   \n",
      "\n",
      "      Attribute609  Attribute610  Attribute611  Attribute612  Attribute613  \\\n",
      "0         0.672951      0.552276      0.663753      0.625540      0.768353   \n",
      "1         0.445492      0.603087      0.565403      0.694590      0.460922   \n",
      "2         0.383831      0.409869      0.358212      0.434397      0.408403   \n",
      "3         0.417545      0.416404      0.386734      0.495619      0.601875   \n",
      "4         0.532106      0.612663      0.590209      0.361023      0.523492   \n",
      "...            ...           ...           ...           ...           ...   \n",
      "7792      0.874570      0.872578      0.843842      0.791331      0.771403   \n",
      "7793      0.552179      0.371676      0.464102      0.539432      0.413598   \n",
      "7794      0.495952      0.539094      0.562889      0.500759      0.445561   \n",
      "7795      0.674504      0.767350      0.691181      0.745998      0.631692   \n",
      "7796      0.585228      0.597003      0.680144      0.601005      0.577592   \n",
      "\n",
      "      Attribute614  Attribute615  Attribute616  Attribute617  \n",
      "0         0.631835      0.798337      0.772465      0.256640  \n",
      "1         0.560698      0.680822      0.697471      0.470525  \n",
      "2         0.509113      0.580946      0.533393      0.262578  \n",
      "3         0.491439      0.434221      0.497227      0.438134  \n",
      "4         0.620236      0.613751      0.566674      0.384690  \n",
      "...            ...           ...           ...           ...  \n",
      "7792      0.763283      0.658915      0.683049      0.673937  \n",
      "7793      0.458301      0.308617      0.210672      0.135500  \n",
      "7794      0.286977      0.479160      0.485689      0.205571  \n",
      "7795      0.423727      0.609257      0.421234      0.249730  \n",
      "7796      0.434221      0.388046      0.350566      0.348521  \n",
      "\n",
      "[7797 rows x 617 columns]\n",
      "features after witchery: [ 1.  1.  2. ... 25. 26. 26.]\n"
     ]
    }
   ],
   "execution_count": 28
  },
  {
   "cell_type": "code",
   "source": [
    "def get_top_k_features(selector, feature_names: list, top_features_to_select: int, algorithm: str, verbose: bool = False):\n",
    "  \"\"\"\n",
    "  Get the top k features based on their scores from a SelectKBest selector.\n",
    "\n",
    "  Parameters:\n",
    "  selector (SelectKBest): Fitted SelectKBest object.\n",
    "  feature_names (list): List of feature names (columns of X).\n",
    "  k (int): Number of top features to select.\n",
    "  algorithm (str): The name of the feature selection algorithm.\n",
    "\n",
    "  Returns:\n",
    "  list: Names of the top k features.\n",
    "  \"\"\"\n",
    "  # Retrieve feature scores\n",
    "  scores = selector.scores_\n",
    "\n",
    "  # Create a DataFrame for ranked features\n",
    "  feature_ranking = pd.DataFrame({\n",
    "    'Feature': feature_names,\n",
    "    'Score': scores\n",
    "  }).sort_values(by='Score', ascending=False)\n",
    "  if verbose:\n",
    "    # Display top-ranked features\n",
    "    print(f\"Feature Rankings using {algorithm}:\")\n",
    "    print(feature_ranking)\n",
    "\n",
    "\n",
    "  # Return selected top k features\n",
    "  return feature_ranking.head(top_features_to_select)['Feature'].tolist()"
   ],
   "metadata": {
    "id": "qIJoIpIA_uOj",
    "executionInfo": {
     "status": "ok",
     "timestamp": 1737710238141,
     "user_tz": -120,
     "elapsed": 3,
     "user": {
      "displayName": "תומר וסרמן",
      "userId": "13570990899464465396"
     }
    },
    "ExecuteTime": {
     "end_time": "2025-01-24T16:45:54.097025Z",
     "start_time": "2025-01-24T16:45:54.094358Z"
    }
   },
   "outputs": [],
   "execution_count": 10
  },
  {
   "cell_type": "code",
   "source": [
    "def train_and_fit_model(X_train, X_test, y_train, y_test):\n",
    "  \"\"\"\n",
    "  Builds, trains, and evaluates a Random Forest classification model.\n",
    "\n",
    "  Parameters:\n",
    "  ----------\n",
    "  X_train : pd.DataFrame or np.ndarray\n",
    "      Feature matrix for training the model.\n",
    "  X_test : pd.DataFrame or np.ndarray\n",
    "      Feature matrix for testing the model.\n",
    "  y_train : pd.Series or np.ndarray\n",
    "      Target labels for training the model.\n",
    "  y_test : pd.Series or np.ndarray\n",
    "      True target labels for testing the model.\n",
    "\n",
    "  Returns:\n",
    "  float: The accuracy of the model on the selected features\n",
    "  \"\"\"\n",
    "  # Build a simple classification model\n",
    "  model = RandomForestClassifier(random_state=42)\n",
    "  model.fit(X_train, y_train)\n",
    "\n",
    "  # Make predictions\n",
    "  y_pred = model.predict(X_test)\n",
    "\n",
    "  # Evaluate the model\n",
    "  accuracy = accuracy_score(y_test, y_pred)\n",
    "  print(\"Model Accuracy:\", accuracy)\n",
    "\n",
    "  # Detailed performance metrics\n",
    "  # print(\"\\nClassification Report:\")\n",
    "  # print(classification_report(y_test, y_pred))\n",
    "\n",
    "  # Return the accuracy of the model\n",
    "  return accuracy"
   ],
   "metadata": {
    "id": "3xTJU8bjG8IN",
    "executionInfo": {
     "status": "ok",
     "timestamp": 1737710238141,
     "user_tz": -120,
     "elapsed": 3,
     "user": {
      "displayName": "תומר וסרמן",
      "userId": "13570990899464465396"
     }
    },
    "ExecuteTime": {
     "end_time": "2025-01-24T16:45:54.104516Z",
     "start_time": "2025-01-24T16:45:54.101011Z"
    }
   },
   "outputs": [],
   "execution_count": 11
  },
  {
   "metadata": {
    "ExecuteTime": {
     "end_time": "2025-01-24T17:01:25.853512Z",
     "start_time": "2025-01-24T17:01:25.849522Z"
    }
   },
   "cell_type": "code",
   "source": [
    "MIN_FEATURES: int = 5\n",
    "MAX_FEATURES: int = 51"
   ],
   "outputs": [
    {
     "name": "stdout",
     "output_type": "stream",
     "text": [
      "X is: [ 1.  1.  2. ... 25. 26. 26.]\n"
     ]
    }
   ],
   "execution_count": 16
  },
  {
   "cell_type": "code",
   "source": [
    "# Apply Chi-Square\n",
    "from sklearn.feature_selection import chi2\n",
    "\n",
    "results = []\n",
    "for k in range(MIN_FEATURES, MAX_FEATURES):\n",
    "  # SelectKBest with chi2 evaluates all features\n",
    "  selector = SelectKBest(score_func=chi2, k='all')\n",
    "  selector.fit(features, target_variables)\n",
    "\n",
    "  # Rank the features using Chi-Square algorithm\n",
    "  top_features = get_top_k_features(selector=selector, feature_names=features.columns,\n",
    "                                    top_features_to_select=k, algorithm=\"Chi-Square\")\n",
    "\n",
    "  # Reduce the dataset to the top k features\n",
    "  X_top = features[top_features]\n",
    "\n",
    "  # Split the data into train and test sets\n",
    "  X_train, X_test, y_train, y_test = train_test_split(X_top, target_variables, test_size=0.2, random_state=42)\n",
    "\n",
    "  # Train and fit random forest classification model based on feature selected\n",
    "  accuracy = train_and_fit_model(X_train, X_test, y_train, y_test)\n",
    "\n",
    "  results.append((k, accuracy))\n",
    "\n",
    "# Find the best k\n",
    "best_k, best_accuracy = max(results, key=lambda x: x[1])\n",
    "\n",
    "print(f\"Best k: {best_k}, Best Accuracy: {best_accuracy}\")\n"
   ],
   "metadata": {
    "colab": {
     "base_uri": "https://localhost:8080/"
    },
    "id": "UUWXWxKB4ifL",
    "executionInfo": {
     "status": "ok",
     "timestamp": 1737710370648,
     "user_tz": -120,
     "elapsed": 132510,
     "user": {
      "displayName": "תומר וסרמן",
      "userId": "13570990899464465396"
     }
    },
    "outputId": "8d89dd8e-9d73-49d5-915a-a34df6a7bffb",
    "ExecuteTime": {
     "end_time": "2025-01-24T16:46:47.062047Z",
     "start_time": "2025-01-24T16:45:54.175695Z"
    }
   },
   "outputs": [
    {
     "name": "stdout",
     "output_type": "stream",
     "text": [
      "Model Accuracy: 0.20064102564102565\n",
      "Model Accuracy: 0.22179487179487178\n",
      "Model Accuracy: 0.23653846153846153\n",
      "Model Accuracy: 0.24871794871794872\n",
      "Model Accuracy: 0.26346153846153847\n",
      "Model Accuracy: 0.2724358974358974\n",
      "Model Accuracy: 0.2935897435897436\n",
      "Model Accuracy: 0.3141025641025641\n",
      "Model Accuracy: 0.32371794871794873\n",
      "Model Accuracy: 0.325\n",
      "Model Accuracy: 0.36666666666666664\n",
      "Model Accuracy: 0.3628205128205128\n",
      "Model Accuracy: 0.3647435897435897\n",
      "Model Accuracy: 0.39166666666666666\n",
      "Model Accuracy: 0.3935897435897436\n",
      "Model Accuracy: 0.39294871794871794\n",
      "Model Accuracy: 0.40576923076923077\n",
      "Model Accuracy: 0.40576923076923077\n",
      "Model Accuracy: 0.4083333333333333\n",
      "Model Accuracy: 0.4032051282051282\n",
      "Model Accuracy: 0.4\n",
      "Model Accuracy: 0.4269230769230769\n",
      "Model Accuracy: 0.4288461538461538\n",
      "Model Accuracy: 0.433974358974359\n",
      "Model Accuracy: 0.43653846153846154\n",
      "Model Accuracy: 0.44294871794871793\n",
      "Model Accuracy: 0.43846153846153846\n",
      "Model Accuracy: 0.45\n",
      "Model Accuracy: 0.4737179487179487\n",
      "Model Accuracy: 0.49743589743589745\n",
      "Model Accuracy: 0.5032051282051282\n",
      "Model Accuracy: 0.507051282051282\n",
      "Model Accuracy: 0.5096153846153846\n",
      "Model Accuracy: 0.5108974358974359\n",
      "Model Accuracy: 0.507051282051282\n",
      "Model Accuracy: 0.5102564102564102\n",
      "Model Accuracy: 0.5083333333333333\n",
      "Model Accuracy: 0.5121794871794871\n",
      "Model Accuracy: 0.5051282051282051\n",
      "Model Accuracy: 0.5076923076923077\n",
      "Model Accuracy: 0.5108974358974359\n",
      "Model Accuracy: 0.5064102564102564\n",
      "Model Accuracy: 0.5173076923076924\n",
      "Model Accuracy: 0.5198717948717949\n",
      "Model Accuracy: 0.5173076923076924\n",
      "Model Accuracy: 0.5102564102564102\n",
      "Best k: 48, Best Accuracy: 0.5198717948717949\n"
     ]
    }
   ],
   "execution_count": 12
  },
  {
   "cell_type": "code",
   "source": [
    "# Apply Mutual Information Classification (MIC)\n",
    "from sklearn.feature_selection import mutual_info_classif\n",
    "\n",
    "# Wrap mutual_info_classif with a fixed random_state\n",
    "mutual_info_classif_with_random_state = lambda X, y: mutual_info_classif(X, y, random_state=42)\n",
    "\n",
    "results = []\n",
    "for k in range(MIN_FEATURES, MAX_FEATURES):\n",
    "\n",
    "  # SelectKBest with mutual_info_classif evaluates all features\n",
    "  selector = SelectKBest(score_func=mutual_info_classif_with_random_state, k='all')\n",
    "  selector.fit(features, target_variables)\n",
    "\n",
    "  # Rank the features using Mutual Information Classification algorithm\n",
    "  top_features = get_top_k_features(selector=selector, feature_names=features.columns,\n",
    "                                    top_features_to_select=k, algorithm=\"Mutual Information Classification\")\n",
    "\n",
    "  # Reduce the dataset to the top k features\n",
    "  X_top = features[top_features]\n",
    "\n",
    "  # Split the data into train and test sets\n",
    "  X_train, X_test, y_train, y_test = train_test_split(X_top, target_variables, test_size=0.2, random_state=42)\n",
    "\n",
    "  # Train and fit random forest classification model based on feature selected\n",
    "  accuracy = train_and_fit_model(X_train, X_test, y_train, y_test)\n",
    "\n",
    "  results.append((k, accuracy))\n",
    "\n",
    "# Find the best k\n",
    "best_k, best_accuracy = max(results, key=lambda x: x[1])\n",
    "\n",
    "print(f\"Best k: {best_k}, Best Accuracy: {best_accuracy}\")"
   ],
   "metadata": {
    "colab": {
     "base_uri": "https://localhost:8080/"
    },
    "id": "fUgKQV416YIo",
    "executionInfo": {
     "status": "ok",
     "timestamp": 1737712620542,
     "user_tz": -120,
     "elapsed": 2191288,
     "user": {
      "displayName": "תומר וסרמן",
      "userId": "13570990899464465396"
     }
    },
    "outputId": "9977bd55-9f64-4c4d-9d92-ad498ebe6e02",
    "ExecuteTime": {
     "end_time": "2025-01-24T16:50:05.081552Z",
     "start_time": "2025-01-24T16:50:04.714821Z"
    }
   },
   "outputs": [
    {
     "ename": "KeyboardInterrupt",
     "evalue": "",
     "output_type": "error",
     "traceback": [
      "\u001B[1;31m---------------------------------------------------------------------------\u001B[0m",
      "\u001B[1;31mKeyboardInterrupt\u001B[0m                         Traceback (most recent call last)",
      "Cell \u001B[1;32mIn[14], line 12\u001B[0m\n\u001B[0;32m      8\u001B[0m \u001B[38;5;28;01mfor\u001B[39;00m k \u001B[38;5;129;01min\u001B[39;00m \u001B[38;5;28mrange\u001B[39m(\u001B[38;5;241m5\u001B[39m, \u001B[38;5;241m51\u001B[39m):\n\u001B[0;32m      9\u001B[0m \n\u001B[0;32m     10\u001B[0m   \u001B[38;5;66;03m# SelectKBest with mutual_info_classif evaluates all features\u001B[39;00m\n\u001B[0;32m     11\u001B[0m   selector \u001B[38;5;241m=\u001B[39m SelectKBest(score_func\u001B[38;5;241m=\u001B[39mmutual_info_classif_with_random_state, k\u001B[38;5;241m=\u001B[39m\u001B[38;5;124m'\u001B[39m\u001B[38;5;124mall\u001B[39m\u001B[38;5;124m'\u001B[39m)\n\u001B[1;32m---> 12\u001B[0m   selector\u001B[38;5;241m.\u001B[39mfit(X, y)\n\u001B[0;32m     14\u001B[0m   \u001B[38;5;66;03m# Rank the features using Mutual Information Classification algorithm\u001B[39;00m\n\u001B[0;32m     15\u001B[0m   top_features \u001B[38;5;241m=\u001B[39m get_top_k_features(selector\u001B[38;5;241m=\u001B[39mselector, feature_names\u001B[38;5;241m=\u001B[39mX\u001B[38;5;241m.\u001B[39mcolumns,\n\u001B[0;32m     16\u001B[0m                                     k\u001B[38;5;241m=\u001B[39mk, algorithm\u001B[38;5;241m=\u001B[39m\u001B[38;5;124m\"\u001B[39m\u001B[38;5;124mMutual Information Classification\u001B[39m\u001B[38;5;124m\"\u001B[39m)\n",
      "File \u001B[1;32m~\\miniconda3\\Lib\\site-packages\\sklearn\\base.py:1473\u001B[0m, in \u001B[0;36m_fit_context.<locals>.decorator.<locals>.wrapper\u001B[1;34m(estimator, *args, **kwargs)\u001B[0m\n\u001B[0;32m   1466\u001B[0m     estimator\u001B[38;5;241m.\u001B[39m_validate_params()\n\u001B[0;32m   1468\u001B[0m \u001B[38;5;28;01mwith\u001B[39;00m config_context(\n\u001B[0;32m   1469\u001B[0m     skip_parameter_validation\u001B[38;5;241m=\u001B[39m(\n\u001B[0;32m   1470\u001B[0m         prefer_skip_nested_validation \u001B[38;5;129;01mor\u001B[39;00m global_skip_validation\n\u001B[0;32m   1471\u001B[0m     )\n\u001B[0;32m   1472\u001B[0m ):\n\u001B[1;32m-> 1473\u001B[0m     \u001B[38;5;28;01mreturn\u001B[39;00m fit_method(estimator, \u001B[38;5;241m*\u001B[39margs, \u001B[38;5;241m*\u001B[39m\u001B[38;5;241m*\u001B[39mkwargs)\n",
      "File \u001B[1;32m~\\miniconda3\\Lib\\site-packages\\sklearn\\feature_selection\\_univariate_selection.py:567\u001B[0m, in \u001B[0;36m_BaseFilter.fit\u001B[1;34m(self, X, y)\u001B[0m\n\u001B[0;32m    562\u001B[0m     X, y \u001B[38;5;241m=\u001B[39m \u001B[38;5;28mself\u001B[39m\u001B[38;5;241m.\u001B[39m_validate_data(\n\u001B[0;32m    563\u001B[0m         X, y, accept_sparse\u001B[38;5;241m=\u001B[39m[\u001B[38;5;124m\"\u001B[39m\u001B[38;5;124mcsr\u001B[39m\u001B[38;5;124m\"\u001B[39m, \u001B[38;5;124m\"\u001B[39m\u001B[38;5;124mcsc\u001B[39m\u001B[38;5;124m\"\u001B[39m], multi_output\u001B[38;5;241m=\u001B[39m\u001B[38;5;28;01mTrue\u001B[39;00m\n\u001B[0;32m    564\u001B[0m     )\n\u001B[0;32m    566\u001B[0m \u001B[38;5;28mself\u001B[39m\u001B[38;5;241m.\u001B[39m_check_params(X, y)\n\u001B[1;32m--> 567\u001B[0m score_func_ret \u001B[38;5;241m=\u001B[39m \u001B[38;5;28mself\u001B[39m\u001B[38;5;241m.\u001B[39mscore_func(X, y)\n\u001B[0;32m    568\u001B[0m \u001B[38;5;28;01mif\u001B[39;00m \u001B[38;5;28misinstance\u001B[39m(score_func_ret, (\u001B[38;5;28mlist\u001B[39m, \u001B[38;5;28mtuple\u001B[39m)):\n\u001B[0;32m    569\u001B[0m     \u001B[38;5;28mself\u001B[39m\u001B[38;5;241m.\u001B[39mscores_, \u001B[38;5;28mself\u001B[39m\u001B[38;5;241m.\u001B[39mpvalues_ \u001B[38;5;241m=\u001B[39m score_func_ret\n",
      "Cell \u001B[1;32mIn[14], line 5\u001B[0m, in \u001B[0;36m<lambda>\u001B[1;34m(X, y)\u001B[0m\n\u001B[0;32m      2\u001B[0m \u001B[38;5;28;01mfrom\u001B[39;00m \u001B[38;5;21;01msklearn\u001B[39;00m\u001B[38;5;21;01m.\u001B[39;00m\u001B[38;5;21;01mfeature_selection\u001B[39;00m \u001B[38;5;28;01mimport\u001B[39;00m mutual_info_classif\n\u001B[0;32m      4\u001B[0m \u001B[38;5;66;03m# Wrap mutual_info_classif with a fixed random_state\u001B[39;00m\n\u001B[1;32m----> 5\u001B[0m mutual_info_classif_with_random_state \u001B[38;5;241m=\u001B[39m \u001B[38;5;28;01mlambda\u001B[39;00m X, y: mutual_info_classif(X, y, random_state\u001B[38;5;241m=\u001B[39m\u001B[38;5;241m42\u001B[39m)\n\u001B[0;32m      7\u001B[0m results \u001B[38;5;241m=\u001B[39m []\n\u001B[0;32m      8\u001B[0m \u001B[38;5;28;01mfor\u001B[39;00m k \u001B[38;5;129;01min\u001B[39;00m \u001B[38;5;28mrange\u001B[39m(\u001B[38;5;241m5\u001B[39m, \u001B[38;5;241m51\u001B[39m):\n\u001B[0;32m      9\u001B[0m \n\u001B[0;32m     10\u001B[0m   \u001B[38;5;66;03m# SelectKBest with mutual_info_classif evaluates all features\u001B[39;00m\n",
      "File \u001B[1;32m~\\miniconda3\\Lib\\site-packages\\sklearn\\utils\\_param_validation.py:186\u001B[0m, in \u001B[0;36mvalidate_params.<locals>.decorator.<locals>.wrapper\u001B[1;34m(*args, **kwargs)\u001B[0m\n\u001B[0;32m    184\u001B[0m global_skip_validation \u001B[38;5;241m=\u001B[39m get_config()[\u001B[38;5;124m\"\u001B[39m\u001B[38;5;124mskip_parameter_validation\u001B[39m\u001B[38;5;124m\"\u001B[39m]\n\u001B[0;32m    185\u001B[0m \u001B[38;5;28;01mif\u001B[39;00m global_skip_validation:\n\u001B[1;32m--> 186\u001B[0m     \u001B[38;5;28;01mreturn\u001B[39;00m func(\u001B[38;5;241m*\u001B[39margs, \u001B[38;5;241m*\u001B[39m\u001B[38;5;241m*\u001B[39mkwargs)\n\u001B[0;32m    188\u001B[0m func_sig \u001B[38;5;241m=\u001B[39m signature(func)\n\u001B[0;32m    190\u001B[0m \u001B[38;5;66;03m# Map *args/**kwargs to the function signature\u001B[39;00m\n",
      "File \u001B[1;32m~\\miniconda3\\Lib\\site-packages\\sklearn\\feature_selection\\_mutual_info.py:571\u001B[0m, in \u001B[0;36mmutual_info_classif\u001B[1;34m(X, y, discrete_features, n_neighbors, copy, random_state, n_jobs)\u001B[0m\n\u001B[0;32m    475\u001B[0m \u001B[38;5;250m\u001B[39m\u001B[38;5;124;03m\"\"\"Estimate mutual information for a discrete target variable.\u001B[39;00m\n\u001B[0;32m    476\u001B[0m \n\u001B[0;32m    477\u001B[0m \u001B[38;5;124;03mMutual information (MI) [1]_ between two random variables is a non-negative\u001B[39;00m\n\u001B[1;32m   (...)\u001B[0m\n\u001B[0;32m    568\u001B[0m \u001B[38;5;124;03m       0.     , 0.     , 0.     , 0.      , 0.        ])\u001B[39;00m\n\u001B[0;32m    569\u001B[0m \u001B[38;5;124;03m\"\"\"\u001B[39;00m\n\u001B[0;32m    570\u001B[0m check_classification_targets(y)\n\u001B[1;32m--> 571\u001B[0m \u001B[38;5;28;01mreturn\u001B[39;00m _estimate_mi(\n\u001B[0;32m    572\u001B[0m     X,\n\u001B[0;32m    573\u001B[0m     y,\n\u001B[0;32m    574\u001B[0m     discrete_features\u001B[38;5;241m=\u001B[39mdiscrete_features,\n\u001B[0;32m    575\u001B[0m     discrete_target\u001B[38;5;241m=\u001B[39m\u001B[38;5;28;01mTrue\u001B[39;00m,\n\u001B[0;32m    576\u001B[0m     n_neighbors\u001B[38;5;241m=\u001B[39mn_neighbors,\n\u001B[0;32m    577\u001B[0m     copy\u001B[38;5;241m=\u001B[39mcopy,\n\u001B[0;32m    578\u001B[0m     random_state\u001B[38;5;241m=\u001B[39mrandom_state,\n\u001B[0;32m    579\u001B[0m     n_jobs\u001B[38;5;241m=\u001B[39mn_jobs,\n\u001B[0;32m    580\u001B[0m )\n",
      "File \u001B[1;32m~\\miniconda3\\Lib\\site-packages\\sklearn\\feature_selection\\_mutual_info.py:306\u001B[0m, in \u001B[0;36m_estimate_mi\u001B[1;34m(X, y, discrete_features, discrete_target, n_neighbors, copy, random_state, n_jobs)\u001B[0m\n\u001B[0;32m    301\u001B[0m     \u001B[38;5;66;03m# Add small noise to continuous features as advised in Kraskov et. al.\u001B[39;00m\n\u001B[0;32m    302\u001B[0m     means \u001B[38;5;241m=\u001B[39m np\u001B[38;5;241m.\u001B[39mmaximum(\u001B[38;5;241m1\u001B[39m, np\u001B[38;5;241m.\u001B[39mmean(np\u001B[38;5;241m.\u001B[39mabs(X[:, continuous_mask]), axis\u001B[38;5;241m=\u001B[39m\u001B[38;5;241m0\u001B[39m))\n\u001B[0;32m    303\u001B[0m     X[:, continuous_mask] \u001B[38;5;241m+\u001B[39m\u001B[38;5;241m=\u001B[39m (\n\u001B[0;32m    304\u001B[0m         \u001B[38;5;241m1e-10\u001B[39m\n\u001B[0;32m    305\u001B[0m         \u001B[38;5;241m*\u001B[39m means\n\u001B[1;32m--> 306\u001B[0m         \u001B[38;5;241m*\u001B[39m rng\u001B[38;5;241m.\u001B[39mstandard_normal(size\u001B[38;5;241m=\u001B[39m(n_samples, np\u001B[38;5;241m.\u001B[39msum(continuous_mask)))\n\u001B[0;32m    307\u001B[0m     )\n\u001B[0;32m    309\u001B[0m \u001B[38;5;28;01mif\u001B[39;00m \u001B[38;5;129;01mnot\u001B[39;00m discrete_target:\n\u001B[0;32m    310\u001B[0m     y \u001B[38;5;241m=\u001B[39m scale(y, with_mean\u001B[38;5;241m=\u001B[39m\u001B[38;5;28;01mFalse\u001B[39;00m)\n",
      "\u001B[1;31mKeyboardInterrupt\u001B[0m: "
     ]
    }
   ],
   "execution_count": 14
  },
  {
   "cell_type": "code",
   "source": [
    "# Apply Mutual Information Regression (MIR)\n",
    "from sklearn.feature_selection import mutual_info_regression\n",
    "\n",
    "results = []\n",
    "for k in range(MIN_FEATURES, MAX_FEATURES):\n",
    "  # Wrapping mutual_info_regression with a fixed random_state\n",
    "  mutual_info_regression_with_random_state = lambda X, y: mutual_info_regression(X, y, random_state=42)\n",
    "\n",
    "  # SelectKBest with mutual_info_regression evaluates all features\n",
    "  selector = SelectKBest(score_func=mutual_info_regression_with_random_state, k='all')\n",
    "  selector.fit(features, target_variables)\n",
    "\n",
    "  # Rank the features using Mutual Information Regression algorithm\n",
    "  top_features = get_top_k_features(selector=selector, feature_names=features.columns,\n",
    "                                    top_features_to_select=k, algorithm=\"Mutual Information Regression\")\n",
    "\n",
    "  # Reduce the dataset to the top 20 features\n",
    "  X_top = features[top_features]\n",
    "\n",
    "  # Split the data into train and test sets\n",
    "  X_train, X_test, y_train, y_test = train_test_split(X_top, target_variables, test_size=0.2, random_state=42)\n",
    "\n",
    "  # Train and fit random forest classification model based on feature selected\n",
    "  accuracy = train_and_fit_model(X_train, X_test, y_train, y_test)\n",
    "\n",
    "  results.append((k, accuracy))\n",
    "\n",
    "# Find the best k\n",
    "best_k, best_accuracy = max(results, key=lambda x: x[1])\n",
    "\n",
    "print(f\"Best k: {best_k}, Best Accuracy: {best_accuracy}\")"
   ],
   "metadata": {
    "id": "KvD-1ZX9Ixjf",
    "executionInfo": {
     "status": "aborted",
     "timestamp": 1737710403135,
     "user_tz": -120,
     "elapsed": 3,
     "user": {
      "displayName": "תומר וסרמן",
      "userId": "13570990899464465396"
     }
    }
   },
   "execution_count": null,
   "outputs": []
  },
  {
   "cell_type": "code",
   "source": [
    "# Apply ANOVA F-value Classificaiton\n",
    "from sklearn.feature_selection import f_classif\n",
    "\n",
    "results = []\n",
    "for k in range(MIN_FEATURES, MAX_FEATURES):\n",
    "  # SelectKBest with f_classif evaluates all features\n",
    "  selector = SelectKBest(score_func=f_classif, k='all')\n",
    "  selector.fit(features, target_variables)\n",
    "\n",
    "  # Rank the features using ANOVA F-value Classificaiton algorithm\n",
    "  top_features = get_top_k_features(selector=selector, feature_names=features.columns,\n",
    "                                    top_features_to_select=k, algorithm=\"ANOVA F-value Classificaiton\")\n",
    "\n",
    "  # Reduce the dataset to the top k features\n",
    "  X_top = features[top_features]\n",
    "\n",
    "  # Split the data into train and test sets\n",
    "  X_train, X_test, y_train, y_test = train_test_split(X_top, target_variables, test_size=0.2, random_state=42)\n",
    "\n",
    "  # Train and fit random forest classification model based on feature selected\n",
    "  accuracy = train_and_fit_model(X_train, X_test, y_train, y_test)\n",
    "\n",
    "  results.append((k, accuracy))\n",
    "\n",
    "# Find the best k\n",
    "best_k, best_accuracy = max(results, key=lambda x: x[1])\n",
    "\n",
    "print(f\"Best k: {best_k}, Best Accuracy: {best_accuracy}\")"
   ],
   "metadata": {
    "colab": {
     "base_uri": "https://localhost:8080/"
    },
    "id": "O9tPxGglO_KN",
    "executionInfo": {
     "status": "ok",
     "timestamp": 1737712839445,
     "user_tz": -120,
     "elapsed": 202652,
     "user": {
      "displayName": "תומר וסרמן",
      "userId": "13570990899464465396"
     }
    },
    "outputId": "80c0c6a7-d3d8-403f-a172-e0ed17948f48"
   },
   "execution_count": 59,
   "outputs": [
    {
     "output_type": "stream",
     "name": "stdout",
     "text": [
      "Model Accuracy: 0.23333333333333334\n",
      "Model Accuracy: 0.2865384615384615\n",
      "Model Accuracy: 0.30833333333333335\n",
      "Model Accuracy: 0.46282051282051284\n",
      "Model Accuracy: 0.4980769230769231\n",
      "Model Accuracy: 0.5121794871794871\n",
      "Model Accuracy: 0.5487179487179488\n",
      "Model Accuracy: 0.5666666666666667\n",
      "Model Accuracy: 0.5858974358974359\n",
      "Model Accuracy: 0.6217948717948718\n",
      "Model Accuracy: 0.6384615384615384\n",
      "Model Accuracy: 0.6435897435897436\n",
      "Model Accuracy: 0.6724358974358975\n",
      "Model Accuracy: 0.6826923076923077\n",
      "Model Accuracy: 0.683974358974359\n",
      "Model Accuracy: 0.6948717948717948\n",
      "Model Accuracy: 0.6993589743589743\n",
      "Model Accuracy: 0.7153846153846154\n",
      "Model Accuracy: 0.7352564102564103\n",
      "Model Accuracy: 0.7448717948717949\n",
      "Model Accuracy: 0.7416666666666667\n",
      "Model Accuracy: 0.7487179487179487\n",
      "Model Accuracy: 0.757051282051282\n",
      "Model Accuracy: 0.7480769230769231\n",
      "Model Accuracy: 0.757051282051282\n",
      "Model Accuracy: 0.7583333333333333\n",
      "Model Accuracy: 0.7628205128205128\n",
      "Model Accuracy: 0.7705128205128206\n",
      "Model Accuracy: 0.7660256410256411\n",
      "Model Accuracy: 0.7698717948717949\n",
      "Model Accuracy: 0.7660256410256411\n",
      "Model Accuracy: 0.7698717948717949\n",
      "Model Accuracy: 0.767948717948718\n",
      "Model Accuracy: 0.7602564102564102\n",
      "Model Accuracy: 0.7737179487179487\n",
      "Model Accuracy: 0.7807692307692308\n",
      "Model Accuracy: 0.7788461538461539\n",
      "Model Accuracy: 0.7794871794871795\n",
      "Model Accuracy: 0.7865384615384615\n",
      "Model Accuracy: 0.7955128205128205\n",
      "Model Accuracy: 0.8070512820512821\n",
      "Model Accuracy: 0.8128205128205128\n",
      "Model Accuracy: 0.8179487179487179\n",
      "Model Accuracy: 0.8153846153846154\n",
      "Model Accuracy: 0.8121794871794872\n",
      "Model Accuracy: 0.8224358974358974\n",
      "Best k: 50, Best Accuracy: 0.8224358974358974\n"
     ]
    }
   ]
  },
  {
   "cell_type": "code",
   "source": [
    "# Apply ANOVA F-value Regression\n",
    "from sklearn.feature_selection import f_regression\n",
    "\n",
    "results = []\n",
    "for k in range(MIN_FEATURES, MAX_FEATURES):\n",
    "  # SelectKBest with f_regression evaluates all features\n",
    "  selector = SelectKBest(score_func=f_regression, k='all')\n",
    "  selector.fit(features, target_variables)\n",
    "\n",
    "  # Rank the features using ANOVA F-value Classificaiton algorithm\n",
    "  top_features = get_top_k_features(selector=selector, feature_names=features.columns,\n",
    "                                    top_features_to_select=k, algorithm=\"ANOVA F-value Regression\")\n",
    "\n",
    "  # Reduce the dataset to the top k features\n",
    "  X_top = features[top_features]\n",
    "\n",
    "  # Split the data into train and test sets\n",
    "  X_train, X_test, y_train, y_test = train_test_split(X_top, target_variables, test_size=0.2, random_state=42)\n",
    "\n",
    "  # Train and fit random forest classification model based on feature selected\n",
    "  accuracy = train_and_fit_model(X_train, X_test, y_train, y_test)\n",
    "  results.append((k, accuracy))\n",
    "\n",
    "# Find the best k\n",
    "best_k, best_accuracy = max(results, key=lambda x: x[1])\n",
    "\n",
    "print(f\"Best k: {best_k}, Best Accuracy: {best_accuracy}\")"
   ],
   "metadata": {
    "colab": {
     "base_uri": "https://localhost:8080/"
    },
    "id": "6g17o-1HQmBp",
    "executionInfo": {
     "status": "ok",
     "timestamp": 1737713873092,
     "user_tz": -120,
     "elapsed": 270905,
     "user": {
      "displayName": "תומר וסרמן",
      "userId": "13570990899464465396"
     }
    },
    "outputId": "dc0d89ca-e9fe-4a0a-e8c9-a9276fd2651a"
   },
   "execution_count": 62,
   "outputs": [
    {
     "output_type": "stream",
     "name": "stdout",
     "text": [
      "Model Accuracy: 0.258974358974359\n",
      "Model Accuracy: 0.30512820512820515\n",
      "Model Accuracy: 0.35512820512820514\n",
      "Model Accuracy: 0.4025641025641026\n",
      "Model Accuracy: 0.46025641025641023\n",
      "Model Accuracy: 0.48012820512820514\n",
      "Model Accuracy: 0.5012820512820513\n",
      "Model Accuracy: 0.5032051282051282\n",
      "Model Accuracy: 0.517948717948718\n",
      "Model Accuracy: 0.5352564102564102\n",
      "Model Accuracy: 0.5365384615384615\n",
      "Model Accuracy: 0.5307692307692308\n",
      "Model Accuracy: 0.5371794871794872\n",
      "Model Accuracy: 0.5551282051282052\n",
      "Model Accuracy: 0.5532051282051282\n",
      "Model Accuracy: 0.5814102564102565\n",
      "Model Accuracy: 0.5897435897435898\n",
      "Model Accuracy: 0.6006410256410256\n",
      "Model Accuracy: 0.6\n",
      "Model Accuracy: 0.6057692307692307\n",
      "Model Accuracy: 0.6006410256410256\n",
      "Model Accuracy: 0.6044871794871794\n",
      "Model Accuracy: 0.610897435897436\n",
      "Model Accuracy: 0.6121794871794872\n",
      "Model Accuracy: 0.610897435897436\n",
      "Model Accuracy: 0.6102564102564103\n",
      "Model Accuracy: 0.6147435897435898\n",
      "Model Accuracy: 0.6141025641025641\n",
      "Model Accuracy: 0.6185897435897436\n",
      "Model Accuracy: 0.6205128205128205\n",
      "Model Accuracy: 0.6442307692307693\n",
      "Model Accuracy: 0.6358974358974359\n",
      "Model Accuracy: 0.6410256410256411\n",
      "Model Accuracy: 0.6358974358974359\n",
      "Model Accuracy: 0.642948717948718\n",
      "Model Accuracy: 0.6435897435897436\n",
      "Model Accuracy: 0.6435897435897436\n",
      "Model Accuracy: 0.6448717948717949\n",
      "Model Accuracy: 0.6544871794871795\n",
      "Model Accuracy: 0.6525641025641026\n",
      "Model Accuracy: 0.6455128205128206\n",
      "Model Accuracy: 0.6544871794871795\n",
      "Model Accuracy: 0.6544871794871795\n",
      "Model Accuracy: 0.6833333333333333\n",
      "Model Accuracy: 0.683974358974359\n",
      "Model Accuracy: 0.6807692307692308\n",
      "Best k: 49, Best Accuracy: 0.683974358974359\n"
     ]
    }
   ]
  }
 ]
}
