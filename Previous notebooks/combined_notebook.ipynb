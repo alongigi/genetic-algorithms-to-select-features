{
 "cells": [
  {
   "cell_type": "code",
   "id": "initial_id",
   "metadata": {
    "collapsed": true,
    "ExecuteTime": {
     "end_time": "2025-01-24T22:04:55.691667Z",
     "start_time": "2025-01-24T22:04:52.591950Z"
    }
   },
   "source": [
    "!pip install ucimlrepo\n",
    "!pip install pygad"
   ],
   "outputs": [
    {
     "name": "stdout",
     "output_type": "stream",
     "text": [
      "Requirement already satisfied: ucimlrepo in c:\\users\\aviv metz\\miniconda3\\lib\\site-packages (0.0.7)\n",
      "Requirement already satisfied: pandas>=1.0.0 in c:\\users\\aviv metz\\miniconda3\\lib\\site-packages (from ucimlrepo) (2.2.3)\n",
      "Requirement already satisfied: certifi>=2020.12.5 in c:\\users\\aviv metz\\miniconda3\\lib\\site-packages (from ucimlrepo) (2024.12.14)\n",
      "Requirement already satisfied: numpy>=1.26.0 in c:\\users\\aviv metz\\miniconda3\\lib\\site-packages (from pandas>=1.0.0->ucimlrepo) (2.2.0)\n",
      "Requirement already satisfied: python-dateutil>=2.8.2 in c:\\users\\aviv metz\\miniconda3\\lib\\site-packages (from pandas>=1.0.0->ucimlrepo) (2.9.0.post0)\n",
      "Requirement already satisfied: pytz>=2020.1 in c:\\users\\aviv metz\\miniconda3\\lib\\site-packages (from pandas>=1.0.0->ucimlrepo) (2024.1)\n",
      "Requirement already satisfied: tzdata>=2022.7 in c:\\users\\aviv metz\\miniconda3\\lib\\site-packages (from pandas>=1.0.0->ucimlrepo) (2023.3)\n",
      "Requirement already satisfied: six>=1.5 in c:\\users\\aviv metz\\miniconda3\\lib\\site-packages (from python-dateutil>=2.8.2->pandas>=1.0.0->ucimlrepo) (1.16.0)\n",
      "Requirement already satisfied: pygad in c:\\users\\aviv metz\\miniconda3\\lib\\site-packages (3.4.0)\n",
      "Requirement already satisfied: cloudpickle in c:\\users\\aviv metz\\miniconda3\\lib\\site-packages (from pygad) (3.1.1)\n",
      "Requirement already satisfied: matplotlib in c:\\users\\aviv metz\\miniconda3\\lib\\site-packages (from pygad) (3.10.0)\n",
      "Requirement already satisfied: numpy in c:\\users\\aviv metz\\miniconda3\\lib\\site-packages (from pygad) (2.2.0)\n",
      "Requirement already satisfied: contourpy>=1.0.1 in c:\\users\\aviv metz\\miniconda3\\lib\\site-packages (from matplotlib->pygad) (1.3.1)\n",
      "Requirement already satisfied: cycler>=0.10 in c:\\users\\aviv metz\\miniconda3\\lib\\site-packages (from matplotlib->pygad) (0.11.0)\n",
      "Requirement already satisfied: fonttools>=4.22.0 in c:\\users\\aviv metz\\miniconda3\\lib\\site-packages (from matplotlib->pygad) (4.55.3)\n",
      "Requirement already satisfied: kiwisolver>=1.3.1 in c:\\users\\aviv metz\\miniconda3\\lib\\site-packages (from matplotlib->pygad) (1.4.7)\n",
      "Requirement already satisfied: packaging>=20.0 in c:\\users\\aviv metz\\miniconda3\\lib\\site-packages (from matplotlib->pygad) (24.1)\n",
      "Requirement already satisfied: pillow>=8 in c:\\users\\aviv metz\\miniconda3\\lib\\site-packages (from matplotlib->pygad) (11.0.0)\n",
      "Requirement already satisfied: pyparsing>=2.3.1 in c:\\users\\aviv metz\\miniconda3\\lib\\site-packages (from matplotlib->pygad) (3.2.0)\n",
      "Requirement already satisfied: python-dateutil>=2.7 in c:\\users\\aviv metz\\miniconda3\\lib\\site-packages (from matplotlib->pygad) (2.9.0.post0)\n",
      "Requirement already satisfied: six>=1.5 in c:\\users\\aviv metz\\miniconda3\\lib\\site-packages (from python-dateutil>=2.7->matplotlib->pygad) (1.16.0)\n"
     ]
    }
   ],
   "execution_count": 1
  },
  {
   "metadata": {
    "ExecuteTime": {
     "end_time": "2025-01-24T22:04:57.946630Z",
     "start_time": "2025-01-24T22:04:56.829718Z"
    }
   },
   "cell_type": "code",
   "source": [
    "import pandas as pd\n",
    "import numpy as np\n",
    "import pygad\n",
    "from ucimlrepo import fetch_ucirepo\n",
    "from sklearn.preprocessing import MinMaxScaler\n",
    "from sklearn.model_selection import train_test_split\n",
    "from sklearn.ensemble import RandomForestClassifier\n",
    "from sklearn.metrics import accuracy_score, classification_report\n",
    "from sklearn.feature_selection import SelectKBest\n"
   ],
   "id": "2bec33f7cae768a4",
   "outputs": [],
   "execution_count": 2
  },
  {
   "metadata": {
    "ExecuteTime": {
     "end_time": "2025-01-24T21:56:31.127285Z",
     "start_time": "2025-01-24T21:56:31.124979Z"
    }
   },
   "cell_type": "code",
   "source": [
    "# Indexes of relevant databases.\n",
    "ISOLET_DB_INDEX: int = 54\n",
    "SPAMBASE_DB_INDEX: int = 94"
   ],
   "id": "775d6e9179d6b50f",
   "outputs": [],
   "execution_count": 130
  },
  {
   "metadata": {},
   "cell_type": "markdown",
   "source": "Change the following to true for much more robust error messages.",
   "id": "5b5a14b277f5a9c1"
  },
  {
   "metadata": {
    "ExecuteTime": {
     "end_time": "2025-01-24T22:04:59.380995Z",
     "start_time": "2025-01-24T22:04:59.377075Z"
    }
   },
   "cell_type": "code",
   "source": "VERBOSE: bool = False # For more robust error messages",
   "id": "ef2652aa59d70ba5",
   "outputs": [],
   "execution_count": 3
  },
  {
   "metadata": {},
   "cell_type": "markdown",
   "source": "Importing and handling the dataset:",
   "id": "427827ac8230572d"
  },
  {
   "metadata": {
    "ExecuteTime": {
     "end_time": "2025-01-24T22:05:04.383899Z",
     "start_time": "2025-01-24T22:05:00.445771Z"
    }
   },
   "cell_type": "code",
   "source": [
    "# Read dataset\n",
    "dataset_currently_used = fetch_ucirepo(id=ISOLET_DB_INDEX)\n",
    "\n",
    "features = dataset_currently_used.data.features\n",
    "target_variables = dataset_currently_used.data.targets"
   ],
   "id": "8e3653a86502cc81",
   "outputs": [
    {
     "ename": "DatasetNotFoundError",
     "evalue": "\"Internet Advertisements\" dataset (id=51) exists in the repository, but is not available for import. Please select a dataset from this list: https://archive.ics.uci.edu/datasets?skip=0&take=10&sort=desc&orderBy=NumHits&search=&Python=true",
     "output_type": "error",
     "traceback": [
      "\u001B[1;31m---------------------------------------------------------------------------\u001B[0m",
      "\u001B[1;31mDatasetNotFoundError\u001B[0m                      Traceback (most recent call last)",
      "Cell \u001B[1;32mIn[4], line 2\u001B[0m\n\u001B[0;32m      1\u001B[0m \u001B[38;5;66;03m# Read dataset\u001B[39;00m\n\u001B[1;32m----> 2\u001B[0m dataset_currently_used \u001B[38;5;241m=\u001B[39m fetch_ucirepo(\u001B[38;5;28mid\u001B[39m\u001B[38;5;241m=\u001B[39m\u001B[38;5;241m51\u001B[39m)\n\u001B[0;32m      4\u001B[0m features \u001B[38;5;241m=\u001B[39m dataset_currently_used\u001B[38;5;241m.\u001B[39mdata\u001B[38;5;241m.\u001B[39mfeatures\n\u001B[0;32m      5\u001B[0m target_variables \u001B[38;5;241m=\u001B[39m dataset_currently_used\u001B[38;5;241m.\u001B[39mdata\u001B[38;5;241m.\u001B[39mtargets\n",
      "File \u001B[1;32m~\\miniconda3\\Lib\\site-packages\\ucimlrepo\\fetch.py:91\u001B[0m, in \u001B[0;36mfetch_ucirepo\u001B[1;34m(name, id)\u001B[0m\n\u001B[0;32m     88\u001B[0m \u001B[38;5;66;03m# no data URL means that the dataset cannot be imported into Python\u001B[39;00m\n\u001B[0;32m     89\u001B[0m \u001B[38;5;66;03m# i.e. it does not yet have a standardized CSV file for pandas to parse\u001B[39;00m\n\u001B[0;32m     90\u001B[0m \u001B[38;5;28;01mif\u001B[39;00m \u001B[38;5;129;01mnot\u001B[39;00m data_url:\n\u001B[1;32m---> 91\u001B[0m     \u001B[38;5;28;01mraise\u001B[39;00m DatasetNotFoundError(\u001B[38;5;124m'\u001B[39m\u001B[38;5;124m\"\u001B[39m\u001B[38;5;132;01m{}\u001B[39;00m\u001B[38;5;124m\"\u001B[39m\u001B[38;5;124m dataset (id=\u001B[39m\u001B[38;5;132;01m{}\u001B[39;00m\u001B[38;5;124m) exists in the repository, but is not available for import. Please select a dataset from this list: https://archive.ics.uci.edu/datasets?skip=0&take=10&sort=desc&orderBy=NumHits&search=&Python=true\u001B[39m\u001B[38;5;124m'\u001B[39m\u001B[38;5;241m.\u001B[39mformat(name, \u001B[38;5;28mid\u001B[39m))\n\u001B[0;32m     94\u001B[0m \u001B[38;5;66;03m# parse into dataframe using pandas\u001B[39;00m\n\u001B[0;32m     95\u001B[0m df \u001B[38;5;241m=\u001B[39m \u001B[38;5;28;01mNone\u001B[39;00m\n",
      "\u001B[1;31mDatasetNotFoundError\u001B[0m: \"Internet Advertisements\" dataset (id=51) exists in the repository, but is not available for import. Please select a dataset from this list: https://archive.ics.uci.edu/datasets?skip=0&take=10&sort=desc&orderBy=NumHits&search=&Python=true"
     ]
    }
   ],
   "execution_count": 4
  },
  {
   "metadata": {},
   "cell_type": "code",
   "source": [
    "# Print missing values and maximum and minimum values in the features of the first dataset\n",
    "X_df = pd.DataFrame(features)\n",
    "y_df = pd.DataFrame(target_variables)\n",
    "\n",
    "print(\"Missing values in X:\", X_df.isnull().sum().sum())\n",
    "print(\"Missing values in y:\", y_df.isnull().sum().sum())\n",
    "\n",
    "print(\"Minimum value across all features:\", X_df.min().min())\n",
    "print(\"Maximum value across all features:\", X_df.max().max())"
   ],
   "id": "5d33b31bad0421c1",
   "outputs": [],
   "execution_count": null
  },
  {
   "metadata": {},
   "cell_type": "code",
   "source": [
    "# Normalize the dataset\n",
    "scaler = MinMaxScaler()\n",
    "X_scaled = scaler.fit_transform(X_df)\n",
    "\n",
    "X_scaled_df = pd.DataFrame(X_scaled, columns=X_df.columns)\n",
    "\n",
    "print(X_scaled_df.min().min())\n",
    "print(X_scaled_df.max().max())"
   ],
   "id": "64313dee7d6054df",
   "outputs": [],
   "execution_count": null
  },
  {
   "metadata": {},
   "cell_type": "code",
   "source": [
    "data_after_scaling = X_scaled_df\n",
    "target_variables = y_df.values.ravel()"
   ],
   "id": "88c0991ca7f0b398",
   "outputs": [],
   "execution_count": null
  },
  {
   "metadata": {},
   "cell_type": "markdown",
   "source": "Feature selection functions",
   "id": "4121de36c96f5cba"
  },
  {
   "metadata": {
    "ExecuteTime": {
     "end_time": "2025-01-24T22:02:09.723009Z",
     "start_time": "2025-01-24T21:15:29.929122Z"
    }
   },
   "cell_type": "code",
   "source": [
    "def get_top_k_features(selector,\n",
    "                       feature_names: list,\n",
    "                       top_features_to_select: int,\n",
    "                       algorithm: str,\n",
    "                       verbose: bool = False,\n",
    "                       normalize_score: bool = True):\n",
    "  \"\"\"\n",
    "  Get the top k features based on their scores from a SelectKBest selector.\n",
    "\n",
    "  Parameters:\n",
    "  selector (SelectKBest): Fitted SelectKBest object.\n",
    "  feature_names (list): List of feature names (columns of X).\n",
    "  k (int): Number of top features to select.\n",
    "  algorithm (str): The name of the feature selection algorithm.\n",
    "\n",
    "  Returns:\n",
    "  A dataframe that contains 2 columns: The first is \"Feature\" and is the feature name and the second is a score, normalization is dependent on the var sent..\n",
    "\n",
    "  \"\"\"\n",
    "  # Retrieve feature scores\n",
    "  scores = selector.scores_\n",
    "\n",
    "  if normalize_score:\n",
    "      scores = scores / np.nansum(scores)\n",
    "\n",
    "  feature_ranking = pd.DataFrame({\n",
    "    'Feature': feature_names,\n",
    "    'Score': scores\n",
    "  }).sort_values(by='Score', ascending=False)\n",
    "  if verbose:\n",
    "    # Display top-ranked features\n",
    "    print(f\"Feature Rankings using {algorithm}:\")\n",
    "    print(feature_ranking)\n",
    "\n",
    "\n",
    "  # Return selected top k features\n",
    "  return feature_ranking.head(top_features_to_select)"
   ],
   "id": "641eabc4d83c5a34",
   "outputs": [],
   "execution_count": 71
  },
  {
   "metadata": {},
   "cell_type": "code",
   "source": "RANDOM_FOREST_SEED: int = 42",
   "id": "d0071fc97b791c87",
   "outputs": [],
   "execution_count": null
  },
  {
   "metadata": {
    "ExecuteTime": {
     "end_time": "2025-01-24T22:02:09.724006400Z",
     "start_time": "2025-01-24T21:50:41.949292Z"
    }
   },
   "cell_type": "code",
   "source": [
    "def train_and_fit_random_forest(X_train, X_test, y_train, y_test, verbose: bool = VERBOSE):\n",
    "  \"\"\"\n",
    "  Builds, trains, and evaluates a Random Forest classification model.\n",
    "\n",
    "  Parameters:\n",
    "  ----------\n",
    "  X_train : pd.DataFrame or np.ndarray\n",
    "      Feature matrix for training the model.\n",
    "  X_test : pd.DataFrame or np.ndarray\n",
    "      Feature matrix for testing the model.\n",
    "  y_train : pd.Series or np.ndarray\n",
    "      Target labels for training the model.\n",
    "  y_test : pd.Series or np.ndarray\n",
    "      True target labels for testing the model.\n",
    "\n",
    "  Returns:\n",
    "  float: The accuracy of the model on the selected features\n",
    "  \"\"\"\n",
    "  # Build a simple classification model\n",
    "  model = RandomForestClassifier(random_state=RANDOM_FOREST_SEED)\n",
    "  model.fit(X_train, y_train)\n",
    "\n",
    "  # Make predictions\n",
    "  y_pred = model.predict(X_test)\n",
    "\n",
    "  # Evaluate the model\n",
    "  accuracy = accuracy_score(y_test, y_pred)\n",
    "  if verbose:\n",
    "    print(\"Model Accuracy:\", accuracy)\n",
    "\n",
    "  # Detailed performance metrics\n",
    "  # print(\"\\nClassification Report:\")\n",
    "  # print(classification_report(y_test, y_pred))\n",
    "\n",
    "  # Return the accuracy of the model\n",
    "  return accuracy\n"
   ],
   "id": "b8a8d5a8331edcf9",
   "outputs": [],
   "execution_count": 112
  },
  {
   "metadata": {
    "ExecuteTime": {
     "end_time": "2025-01-24T22:02:09.726998300Z",
     "start_time": "2025-01-24T21:50:42.013690Z"
    }
   },
   "cell_type": "code",
   "source": [
    "MIN_FEATURES: int = 5\n",
    "MAX_FEATURES: int = 10\n",
    "TRAIN_TEST_SPLIT_RATIO: float = 0.2\n"
   ],
   "id": "60656a67680f31c3",
   "outputs": [],
   "execution_count": 114
  },
  {
   "metadata": {},
   "cell_type": "markdown",
   "source": "Import all the feature selection algorithms.",
   "id": "fedf31d48d2d5d3d"
  },
  {
   "metadata": {
    "ExecuteTime": {
     "end_time": "2025-01-24T22:02:09.727995900Z",
     "start_time": "2025-01-24T21:50:42.068546Z"
    }
   },
   "cell_type": "code",
   "source": [
    "from sklearn.feature_selection import chi2\n",
    "from sklearn.feature_selection import mutual_info_classif\n",
    "from sklearn.feature_selection import mutual_info_regression\n",
    "from sklearn.feature_selection import f_classif\n",
    "from sklearn.feature_selection import f_regression\n",
    "\n",
    "mutual_info_classif_with_random_state = lambda X, y: mutual_info_classif(X, y, random_state=42)\n",
    "mutual_info_regression_with_random_state = lambda X, y: mutual_info_regression(X, y, random_state=42)\n",
    "\n",
    "# Selects features based on the k best scores. Here k is 'all'.\n",
    "classifier_chi2: SelectKBest = SelectKBest(score_func=chi2, k='all')\n",
    "classifier_mutual_info_classif: SelectKBest = SelectKBest(score_func=mutual_info_classif_with_random_state, k='all')\n",
    "classifier_mutual_info_regression: SelectKBest = SelectKBest(score_func=mutual_info_regression_with_random_state, k='all')\n",
    "classifier_f_classif: SelectKBest = SelectKBest(score_func=f_classif, k='all')\n",
    "classifier_f_regression: SelectKBest = SelectKBest(score_func=f_regression, k='all')"
   ],
   "id": "99638d58bd84024",
   "outputs": [],
   "execution_count": 115
  },
  {
   "metadata": {},
   "cell_type": "markdown",
   "source": "Preselecting all the features with each classifier to get a feature ranking.",
   "id": "2a1efd3ac68487d7"
  },
  {
   "metadata": {
    "ExecuteTime": {
     "end_time": "2025-01-24T22:02:09.727995900Z",
     "start_time": "2025-01-24T21:50:42.127328Z"
    }
   },
   "cell_type": "code",
   "source": "FEATURES_TO_SELECT = 5",
   "id": "9715f9685b56b95c",
   "outputs": [],
   "execution_count": 116
  },
  {
   "metadata": {
    "ExecuteTime": {
     "end_time": "2025-01-24T22:02:09.727995900Z",
     "start_time": "2025-01-24T21:50:42.184256Z"
    }
   },
   "cell_type": "code",
   "source": [
    "# Fits all the feature selection algorithms.\n",
    "\n",
    "selector_list = [\n",
    "    (classifier_chi2, \"classifier_chi2\"),\n",
    "    (classifier_mutual_info_classif, \"classifier_mutual_info_classif\"),\n",
    "    (classifier_mutual_info_regression, \"classifier_mutual_info_regression\"),\n",
    "    (classifier_f_classif, \"classifier_f_classif\"),\n",
    "    (classifier_f_regression, \"classifier_f_regression\")\n",
    "]\n",
    "features_selected_by_each_algorithm: dict = dict()\n",
    "for selector_in_list in selector_list:\n",
    "    selector_in_list: tuple[SelectKBest, str]\n",
    "    selector_in_list[0].fit(data_after_scaling, target_variables)\n",
    "      # Rank the features using Chi-Square algorithm\n",
    "    top_features = get_top_k_features(\n",
    "        selector=selector_in_list[0],\n",
    "        feature_names=features.columns,\n",
    "        top_features_to_select=FEATURES_TO_SELECT,\n",
    "        algorithm=selector_in_list[1],\n",
    "    )\n",
    "    features_selected_by_each_algorithm[selector_in_list[1]] = top_features\n"
   ],
   "id": "f0b36a01d9e3141e",
   "outputs": [],
   "execution_count": 117
  },
  {
   "metadata": {
    "ExecuteTime": {
     "end_time": "2025-01-24T22:02:09.727995900Z",
     "start_time": "2025-01-24T21:54:11.914319Z"
    }
   },
   "cell_type": "code",
   "source": [
    "def weighted_combine_scores(features_selected_by_each_algorithm_in_func: dict[str, pd.DataFrame],\n",
    "                            weights: list[float],\n",
    "                            verbose: bool = VERBOSE) -> pd.DataFrame:\n",
    "    \"\"\"\n",
    "    Sums all the features selected by each algorithm, multiplying each feature by the weight corresponding to it's index.\n",
    "    :param features_selected_by_each_algorithm_in_func:\n",
    "    :param weights:\n",
    "    :param verbose: Printing relevant messages.\n",
    "    :return:\n",
    "    \"\"\"\n",
    "    if len(features_selected_by_each_algorithm_in_func) != len(weights):\n",
    "        raise ValueError(\"Number of weights does not match number of features selectors\")\n",
    "    combined_scores = pd.DataFrame({\n",
    "        'Feature': [],\n",
    "        'Score': []\n",
    "    })\n",
    "    index = 0\n",
    "    for algorithm_name, features_selected_by_algorithm in features_selected_by_each_algorithm_in_func.items():\n",
    "        if verbose:\n",
    "            print(f'Combining scores for {algorithm_name}, its weight is: {weights[index]}')\n",
    "\n",
    "        features_selected_by_algorithm['Score'] = features_selected_by_algorithm['Score'] * weights[index]\n",
    "        combined_scores = pd.merge(combined_scores,\n",
    "                               features_selected_by_algorithm,\n",
    "                               on='Feature', how='outer', suffixes=('_df1', '_df2'))\n",
    "\n",
    "        # Sum the scores where both exist, fill NaN with 0 for features that only exist in one of the dataframes\n",
    "        combined_scores['Score'] = combined_scores['Score_df1'].fillna(0) + combined_scores['Score_df2'].fillna(0)\n",
    "\n",
    "        # Drop the original score columns if not needed\n",
    "        combined_scores = combined_scores[['Feature', 'Score']]\n",
    "        index += 1\n",
    "    return combined_scores"
   ],
   "id": "bf04ba6ab50bc8cc",
   "outputs": [],
   "execution_count": 126
  },
  {
   "metadata": {},
   "cell_type": "markdown",
   "source": "Genetic Algorithm part, will use the cells created above.",
   "id": "41fd9161dd569135"
  },
  {
   "metadata": {},
   "cell_type": "code",
   "outputs": [],
   "execution_count": null,
   "source": "TEST_TRAIN_SPLIT = 0.2",
   "id": "1b0f42e782a6e8cd"
  },
  {
   "metadata": {},
   "cell_type": "code",
   "outputs": [],
   "execution_count": null,
   "source": [
    "def fitness_func_as_weights_to_use_from_each_algorithm(ga_instance, solution, solution_idx):\n",
    "    combined_scores = weighted_combine_scores(features_selected_by_each_algorithm_in_func=features_selected_by_each_algorithm,\n",
    "                                              weights=solution)\n",
    "    combined_sorted_scores = combined_scores.sort_values(by=['Score'], ascending=False)\n",
    "    list_of_sorted_features = combined_sorted_scores.head(FEATURES_TO_SELECT)['Feature'].tolist()\n",
    "    data_with_top_features = data_after_scaling[list_of_sorted_features]\n",
    "\n",
    "    X_train, X_test, y_train, y_test = train_test_split(data_with_top_features, target_variables, test_size=TEST_TRAIN_SPLIT, random_state=42)\n",
    "    # Train and fit random forest classification model based on feature selected\n",
    "    accuracy = train_and_fit_random_forest(X_train, X_test, y_train, y_test)\n",
    "    if VERBOSE:\n",
    "        print(f'model_accuracy: {accuracy}')\n",
    "    return accuracy"
   ],
   "id": "e9c0e0aa58616476"
  },
  {
   "metadata": {
    "ExecuteTime": {
     "end_time": "2025-01-24T22:02:09.727995900Z",
     "start_time": "2025-01-24T21:54:14.020242Z"
    }
   },
   "cell_type": "code",
   "source": [
    "num_generations = 1\n",
    "num_parents_mating = 4\n",
    "\n",
    "sol_per_pop = 12\n",
    "num_genes = len(features_selected_by_each_algorithm) # Use this to control the number of feature selection potential solutions is used.\n",
    "\n",
    "init_range_low = 0\n",
    "init_range_high = 1\n",
    "\n",
    "parent_selection_type = \"sss\" #steady-state selection, meaning it selects the parents with the highest fitness.\n",
    "keep_parents = 1\n",
    "\n",
    "crossover_type = \"single_point\" # Swaps the chromosomes from a certain index onwards between the parents.\n",
    "\n",
    "mutation_type = \"random\"\n",
    "mutation_percent_genes = 20\n",
    "ga_instance = pygad.GA(num_generations=num_generations,\n",
    "                       num_parents_mating=num_parents_mating, # Num of parents to select each generation.\n",
    "                       fitness_func=fitness_func_as_weights_to_use_from_each_algorithm,\n",
    "                       sol_per_pop=sol_per_pop, # Number of solutions per population.\n",
    "                       num_genes=num_genes, # Effectively, the thing that is tweaked for each generation.\n",
    "                       # gene_type=list[float], # The type of gene, meaning of each value inside a chromosome. Supports list.\n",
    "                       init_range_low=init_range_low, # dependent on the gene type, the range of values to be generated.\n",
    "                       init_range_high=init_range_high,\n",
    "                       parent_selection_type=parent_selection_type,\n",
    "                       keep_parents=keep_parents, # Number of parents to keep from current population.\n",
    "                       # keep_elitism = 1, # The number of the solutions with the best fitness that will be kept for next generation.\n",
    "                       crossover_type=crossover_type,\n",
    "                       mutation_type=mutation_type,\n",
    "                       mutation_by_replacement=True, # If the previous gene is replaced or not.\n",
    "                       mutation_percent_genes=mutation_percent_genes, # The probability that each gene will be mutated\n",
    "                       # crossover_type=crossover_func, Can be used to customize a crossover func.\n",
    "                       # mutation_type=mutation_func, Can be used to customize a mutation func.\n",
    "                       )\n",
    "\n",
    "ga_instance.run()\n",
    "print('--------------------------------------------------')\n",
    "print(f'Generation: {num_generations}')\n",
    "solution, solution_fitness, solution_idx = ga_instance.best_solution()\n",
    "print(\"Parameters of the best solution : {solution}\".format(solution=solution))\n",
    "print(\"Fitness value of the best solution = {solution_fitness}\".format(solution_fitness=solution_fitness))\n"
   ],
   "id": "e69ec6e51c9fa814",
   "outputs": [
    {
     "name": "stderr",
     "output_type": "stream",
     "text": [
      "C:\\Users\\Aviv Metz\\miniconda3\\Lib\\site-packages\\pygad\\pygad.py:744: UserWarning: The percentage of genes to mutate (mutation_percent_genes=20) resulted in selecting (0) genes. The number of genes to mutate is set to 1 (mutation_num_genes=1).\n",
      "If you do not want to mutate any gene, please set mutation_type=None.\n",
      "  warnings.warn(f\"The percentage of genes to mutate (mutation_percent_genes={mutation_percent_genes}) resulted in selecting ({mutation_num_genes}) genes. The number of genes to mutate is set to 1 (mutation_num_genes=1).\\nIf you do not want to mutate any gene, please set mutation_type=None.\")\n"
     ]
    },
    {
     "name": "stdout",
     "output_type": "stream",
     "text": [
      "model_accuracy: 0.9295774647887324\n",
      "model_accuracy: 0.9295774647887324\n",
      "model_accuracy: 0.9295774647887324\n",
      "model_accuracy: 0.9295774647887324\n",
      "model_accuracy: 0.9295774647887324\n",
      "model_accuracy: 0.9295774647887324\n",
      "model_accuracy: 0.9295774647887324\n",
      "model_accuracy: 0.9295774647887324\n",
      "model_accuracy: 0.9295774647887324\n",
      "model_accuracy: 0.9295774647887324\n",
      "model_accuracy: 0.9295774647887324\n",
      "model_accuracy: 0.9295774647887324\n",
      "model_accuracy: 0.9295774647887324\n",
      "model_accuracy: 0.9295774647887324\n",
      "model_accuracy: 0.9295774647887324\n",
      "model_accuracy: 0.8873239436619719\n",
      "model_accuracy: 0.8873239436619719\n",
      "model_accuracy: 0.8873239436619719\n",
      "model_accuracy: 0.9014084507042254\n",
      "model_accuracy: 0.9014084507042254\n",
      "model_accuracy: 0.9014084507042254\n",
      "model_accuracy: 0.8873239436619719\n",
      "model_accuracy: 0.9295774647887324\n",
      "--------------------------------------------------\n",
      "Generation: 1\n",
      "model_accuracy: 0.8873239436619719\n",
      "model_accuracy: 0.8873239436619719\n",
      "model_accuracy: 0.8873239436619719\n",
      "model_accuracy: 0.9014084507042254\n",
      "model_accuracy: 0.9014084507042254\n",
      "model_accuracy: 0.9014084507042254\n",
      "model_accuracy: 0.8873239436619719\n",
      "Parameters of the best solution : [0.18254335 0.59267959]\n",
      "Fitness value of the best solution = 0.9295774647887324\n"
     ]
    }
   ],
   "execution_count": 127
  }
 ],
 "metadata": {
  "kernelspec": {
   "display_name": "Python 3",
   "language": "python",
   "name": "python3"
  },
  "language_info": {
   "codemirror_mode": {
    "name": "ipython",
    "version": 2
   },
   "file_extension": ".py",
   "mimetype": "text/x-python",
   "name": "python",
   "nbconvert_exporter": "python",
   "pygments_lexer": "ipython2",
   "version": "2.7.6"
  }
 },
 "nbformat": 4,
 "nbformat_minor": 5
}
