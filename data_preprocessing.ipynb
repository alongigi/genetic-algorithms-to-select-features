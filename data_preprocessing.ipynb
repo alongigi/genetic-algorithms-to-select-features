{
  "nbformat": 4,
  "nbformat_minor": 0,
  "metadata": {
    "colab": {
      "provenance": []
    },
    "kernelspec": {
      "name": "python3",
      "display_name": "Python 3"
    },
    "language_info": {
      "name": "python"
    }
  },
  "cells": [
    {
      "cell_type": "code",
      "source": [
        "!pip install ucimlrepo"
      ],
      "metadata": {
        "colab": {
          "base_uri": "https://localhost:8080/"
        },
        "id": "YNpdfpQMhV4v",
        "outputId": "20fd591a-36a2-4b42-85ed-c164fb3032eb"
      },
      "execution_count": 22,
      "outputs": [
        {
          "output_type": "stream",
          "name": "stdout",
          "text": [
            "Requirement already satisfied: ucimlrepo in /usr/local/lib/python3.11/dist-packages (0.0.7)\n",
            "Requirement already satisfied: pandas>=1.0.0 in /usr/local/lib/python3.11/dist-packages (from ucimlrepo) (2.2.2)\n",
            "Requirement already satisfied: certifi>=2020.12.5 in /usr/local/lib/python3.11/dist-packages (from ucimlrepo) (2024.12.14)\n",
            "Requirement already satisfied: numpy>=1.23.2 in /usr/local/lib/python3.11/dist-packages (from pandas>=1.0.0->ucimlrepo) (1.26.4)\n",
            "Requirement already satisfied: python-dateutil>=2.8.2 in /usr/local/lib/python3.11/dist-packages (from pandas>=1.0.0->ucimlrepo) (2.8.2)\n",
            "Requirement already satisfied: pytz>=2020.1 in /usr/local/lib/python3.11/dist-packages (from pandas>=1.0.0->ucimlrepo) (2024.2)\n",
            "Requirement already satisfied: tzdata>=2022.7 in /usr/local/lib/python3.11/dist-packages (from pandas>=1.0.0->ucimlrepo) (2024.2)\n",
            "Requirement already satisfied: six>=1.5 in /usr/local/lib/python3.11/dist-packages (from python-dateutil>=2.8.2->pandas>=1.0.0->ucimlrepo) (1.17.0)\n"
          ]
        }
      ]
    },
    {
      "cell_type": "code",
      "execution_count": 23,
      "metadata": {
        "id": "Pk4LwTWPhN0g"
      },
      "outputs": [],
      "source": [
        "from ucimlrepo import fetch_ucirepo\n",
        "import numpy as np\n",
        "import pandas as pd\n",
        "from sklearn.preprocessing import MinMaxScaler"
      ]
    },
    {
      "cell_type": "markdown",
      "source": [
        "# ISOLET dataset"
      ],
      "metadata": {
        "id": "osAXYR8etldv"
      }
    },
    {
      "cell_type": "code",
      "source": [
        "isolet = fetch_ucirepo(id=54)\n",
        "\n",
        "X = isolet.data.features\n",
        "y = isolet.data.targets"
      ],
      "metadata": {
        "id": "aaY2_YTfhObY"
      },
      "execution_count": 24,
      "outputs": []
    },
    {
      "cell_type": "code",
      "source": [
        "X_df = pd.DataFrame(X)\n",
        "y_df = pd.DataFrame(y)\n",
        "\n",
        "print(\"Missing values in X:\", X_df.isnull().sum().sum())\n",
        "print(\"Missing values in y:\", y_df.isnull().sum().sum())"
      ],
      "metadata": {
        "colab": {
          "base_uri": "https://localhost:8080/"
        },
        "id": "q3lvsl6viARZ",
        "outputId": "43d6a851-a262-401d-945d-0d63f49da06a"
      },
      "execution_count": 25,
      "outputs": [
        {
          "output_type": "stream",
          "name": "stdout",
          "text": [
            "Missing values in X: 0\n",
            "Missing values in y: 0\n"
          ]
        }
      ]
    },
    {
      "cell_type": "markdown",
      "source": [
        "There are no missing values."
      ],
      "metadata": {
        "id": "x1prUtPatZhq"
      }
    },
    {
      "cell_type": "code",
      "source": [
        "print(\"Minimum value across all features:\", X_df.min().min())\n",
        "print(\"Maximum value across all features:\", X_df.max().max())"
      ],
      "metadata": {
        "colab": {
          "base_uri": "https://localhost:8080/"
        },
        "id": "NN8WoB9DsZ_T",
        "outputId": "f3001f69-6821-46fe-d5bc-3376e2c8b7ef"
      },
      "execution_count": 26,
      "outputs": [
        {
          "output_type": "stream",
          "name": "stdout",
          "text": [
            "Minimum value across all features: -1.0\n",
            "Maximum value across all features: 1.0\n"
          ]
        }
      ]
    },
    {
      "cell_type": "markdown",
      "source": [
        "No data normalization is required."
      ],
      "metadata": {
        "id": "ebL-_kFUtQPt"
      }
    },
    {
      "cell_type": "markdown",
      "source": [
        "# Spambase dataset"
      ],
      "metadata": {
        "id": "bJPNR2Sgt004"
      }
    },
    {
      "cell_type": "code",
      "source": [
        "spambase = fetch_ucirepo(id=94)\n",
        "\n",
        "X = spambase.data.features\n",
        "y = spambase.data.targets"
      ],
      "metadata": {
        "id": "-oFTS14Xt4bO"
      },
      "execution_count": 27,
      "outputs": []
    },
    {
      "cell_type": "code",
      "source": [
        "X_df = pd.DataFrame(X)\n",
        "y_df = pd.DataFrame(y)\n",
        "\n",
        "print(\"Missing values in X:\", X_df.isnull().sum().sum())\n",
        "print(\"Missing values in y:\", y_df.isnull().sum().sum())"
      ],
      "metadata": {
        "colab": {
          "base_uri": "https://localhost:8080/"
        },
        "id": "dgU-Qm8vt-JE",
        "outputId": "a8e152cc-dbae-4112-d5ba-ddaec7040202"
      },
      "execution_count": 28,
      "outputs": [
        {
          "output_type": "stream",
          "name": "stdout",
          "text": [
            "Missing values in X: 0\n",
            "Missing values in y: 0\n"
          ]
        }
      ]
    },
    {
      "cell_type": "markdown",
      "source": [
        "There are no missing values."
      ],
      "metadata": {
        "id": "_JYawjFguH_X"
      }
    },
    {
      "cell_type": "code",
      "source": [
        "print(\"Minimum value across all features:\", X_df.min().min())\n",
        "print(\"Maximum value across all features:\", X_df.max().max())"
      ],
      "metadata": {
        "colab": {
          "base_uri": "https://localhost:8080/"
        },
        "id": "_RpcNL5cuF_2",
        "outputId": "54319e6d-de7e-4b58-eafd-54f405779e0d"
      },
      "execution_count": 29,
      "outputs": [
        {
          "output_type": "stream",
          "name": "stdout",
          "text": [
            "Minimum value across all features: 0.0\n",
            "Maximum value across all features: 15841.0\n"
          ]
        }
      ]
    },
    {
      "cell_type": "markdown",
      "source": [
        "data normalization is required, using Min-Max Scaling."
      ],
      "metadata": {
        "id": "T5p7Wa74uyDA"
      }
    },
    {
      "cell_type": "code",
      "source": [
        "scaler = MinMaxScaler()\n",
        "X_scaled = scaler.fit_transform(X_df)\n",
        "\n",
        "X_scaled_df = pd.DataFrame(X_scaled, columns=X_df.columns)\n",
        "\n",
        "print(X_scaled_df.min().min())\n",
        "print(X_scaled_df.max().max())"
      ],
      "metadata": {
        "colab": {
          "base_uri": "https://localhost:8080/"
        },
        "id": "cSjsVrfiuKFb",
        "outputId": "3f09bcee-ed9e-43af-fedb-e115a6a25c54"
      },
      "execution_count": 30,
      "outputs": [
        {
          "output_type": "stream",
          "name": "stdout",
          "text": [
            "0.0\n",
            "1.0\n"
          ]
        }
      ]
    },
    {
      "cell_type": "code",
      "source": [],
      "metadata": {
        "id": "7MvIDP7Xuhp3"
      },
      "execution_count": 30,
      "outputs": []
    }
  ]
}