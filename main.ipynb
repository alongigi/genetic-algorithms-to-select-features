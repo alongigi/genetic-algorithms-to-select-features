{
 "cells": [
  {
   "cell_type": "code",
   "id": "initial_id",
   "metadata": {
    "collapsed": true,
    "ExecuteTime": {
     "end_time": "2025-01-17T16:29:52.658122Z",
     "start_time": "2025-01-17T16:29:52.509862Z"
    }
   },
   "source": [
    "import pygad\n",
    "import numpy as np"
   ],
   "outputs": [],
   "execution_count": 1
  },
  {
   "metadata": {},
   "cell_type": "code",
   "outputs": [],
   "execution_count": null,
   "source": [
    "def fitness_eval(network_to_train, solution_to_evaluate, dataset_to_use):\n",
    "    \"\"\"\n",
    "    A function that the fitness func that pygad accepts will use in order to evaluate the fitness of the network.\n",
    "    :param network_to_train:\n",
    "    :param solution_to_evaluate:\n",
    "    :param dataset_to_use:\n",
    "    :return:\n",
    "    \"\"\"\n",
    "    raise NotImplementedError"
   ],
   "id": "5ad7d7ec573a48ca"
  },
  {
   "metadata": {},
   "cell_type": "code",
   "outputs": [],
   "execution_count": null,
   "source": [
    "def mutation_func(offspring, ga_instance: pygad.GA):\n",
    "    \"\"\"\n",
    "    Custom mutation function format\n",
    "    :param offspring:\n",
    "    :param ga_instance:\n",
    "    :return:\n",
    "    \"\"\"\n",
    "\n",
    "    return offspring"
   ],
   "id": "1553af2e295465f0"
  },
  {
   "metadata": {},
   "cell_type": "code",
   "outputs": [],
   "execution_count": null,
   "source": [
    "def crossover_func(parents, offspring_size, ga_instance: pygad.GA):\n",
    "    \"\"\"\n",
    "    Custom crossover function format.\n",
    "    :param parents:\n",
    "    :param offspring_size:\n",
    "    :param ga_instance:\n",
    "    :return:\n",
    "    \"\"\"\n",
    "    return 1"
   ],
   "id": "391aa70788bb6bda"
  },
  {
   "metadata": {
    "ExecuteTime": {
     "end_time": "2025-01-17T17:07:16.680893Z",
     "start_time": "2025-01-17T17:07:16.639367Z"
    }
   },
   "cell_type": "code",
   "source": [
    "def fitness_func(ga_instance, solution, solution_idx):\n",
    "    output = np.sum(solution * function_inputs)\n",
    "    fitness = 1.0 / np.abs(output - desired_output)\n",
    "    return fitness\n",
    "\n",
    "\n",
    "function_inputs = [4, -2, 3.5, 5, -11, -4.7] # The weights applied to a potential solution.\n",
    "desired_output = 44\n",
    "\n",
    "fitness_function = fitness_func\n",
    "\n",
    "num_generations = 50\n",
    "num_parents_mating = 4\n",
    "\n",
    "sol_per_pop = 8\n",
    "num_genes = len(function_inputs) # Use this to control the number of feature selection potential solutions is used.\n",
    "\n",
    "init_range_low = -2\n",
    "init_range_high = 5\n",
    "\n",
    "parent_selection_type = \"sss\" #steady-state selection, meaning it selects the parents with the highest fitness.\n",
    "keep_parents = 1\n",
    "\n",
    "crossover_type = \"single_point\" # Swaps the chromosomes from a certain index onwards between the parents.\n",
    "\n",
    "mutation_type = \"random\"\n",
    "mutation_percent_genes = 20\n",
    "for num_of_generations in range(10, 51, 10):\n",
    "    ga_instance = pygad.GA(num_generations=num_of_generations,\n",
    "                           num_parents_mating=num_parents_mating, # Num of parents to select each generation.\n",
    "                           fitness_func=fitness_function,\n",
    "                           sol_per_pop=sol_per_pop, # Number of solutions per population.\n",
    "                           num_genes=num_genes, # Effectively, the thing that is tweaked for each generation.\n",
    "                           # gene_type=list[float], # The type of gene, meaning of each value inside a chromosome. Supports list.\n",
    "                           init_range_low=init_range_low, # dependent on the gene type, the range of values to be generated.\n",
    "                           init_range_high=init_range_high,\n",
    "                           parent_selection_type=parent_selection_type,\n",
    "                           keep_parents=keep_parents, # Number of parents to keep from current population.\n",
    "                           # keep_elitism = 1, # The number of the solutions with the best fitness that will be kept for next generation.\n",
    "                           crossover_type=crossover_type,\n",
    "                           mutation_type=mutation_type,\n",
    "                           mutation_by_replacement=True, # If the previous gene is replaced or not.\n",
    "                           mutation_percent_genes=mutation_percent_genes, # The probablity that each gene will be mutated\n",
    "                           # crossover_type=crossover_func, Can be used to customize a crossover func.\n",
    "                           # mutation_type=mutation_func, Can be used to customize a mutation func.\n",
    "                           )\n",
    "\n",
    "    ga_instance.run()\n",
    "    print('--------------------------------------------------')\n",
    "    print(f'Generation: {num_of_generations}')\n",
    "    solution, solution_fitness, solution_idx = ga_instance.best_solution()\n",
    "    print(\"Parameters of the best solution : {solution}\".format(solution=solution))\n",
    "    print(\"Fitness value of the best solution = {solution_fitness}\".format(solution_fitness=solution_fitness))\n",
    "\n",
    "    prediction = np.sum(np.array(function_inputs) * solution)\n",
    "    print(\"Predicted output based on the best solution : {prediction}\".format(prediction=prediction))"
   ],
   "id": "ab9948655ce51705",
   "outputs": [
    {
     "name": "stdout",
     "output_type": "stream",
     "text": [
      "--------------------------------------------------\n",
      "Generation: 10\n",
      "Parameters of the best solution : [ 0.21698036  4.15063718  3.65486632  4.33309637 -1.34690959 -0.41990925]\n",
      "Fitness value of the best solution = 0.8473584025364183\n",
      "Predicted output based on the best solution : 43.813740033543475\n",
      "--------------------------------------------------\n",
      "Generation: 20\n",
      "Parameters of the best solution : [ 2.39952228 -0.30132653  2.13063445  1.37513636 -0.85910265 -1.67450248]\n",
      "Fitness value of the best solution = 0.4659692022172177\n",
      "Predicted output based on the best solution : 41.85393542053486\n",
      "--------------------------------------------------\n",
      "Generation: 30\n",
      "Parameters of the best solution : [-0.0691146   0.53056614  4.95629656  3.68398881 -0.59177458 -0.64190764]\n",
      "Fitness value of the best solution = 22.664214921124714\n",
      "Predicted output based on the best solution : 43.955877580428876\n",
      "--------------------------------------------------\n",
      "Generation: 40\n",
      "Parameters of the best solution : [ 0.92827854 -0.2461195   4.3420254   2.45655997 -0.80153318 -0.74741793]\n",
      "Fitness value of the best solution = 66.79482411333656\n",
      "Predicted output based on the best solution : 44.01497121990026\n",
      "--------------------------------------------------\n",
      "Generation: 50\n",
      "Parameters of the best solution : [ 3.56567132 -0.34143896  4.5258861  -0.41451484 -1.28335296 -0.26395086]\n",
      "Fitness value of the best solution = 14.076190331537436\n",
      "Predicted output based on the best solution : 44.07104194930922\n"
     ]
    }
   ],
   "execution_count": 4
  },
  {
   "metadata": {},
   "cell_type": "code",
   "outputs": [],
   "execution_count": null,
   "source": "",
   "id": "4ac64ad8de2a0f05"
  },
  {
   "metadata": {},
   "cell_type": "code",
   "outputs": [],
   "execution_count": null,
   "source": "",
   "id": "e7037182829a868f"
  },
  {
   "metadata": {},
   "cell_type": "code",
   "outputs": [],
   "execution_count": null,
   "source": "",
   "id": "1cf49c8a15053b49"
  }
 ],
 "metadata": {
  "kernelspec": {
   "display_name": "Python 3",
   "language": "python",
   "name": "python3"
  },
  "language_info": {
   "codemirror_mode": {
    "name": "ipython",
    "version": 2
   },
   "file_extension": ".py",
   "mimetype": "text/x-python",
   "name": "python",
   "nbconvert_exporter": "python",
   "pygments_lexer": "ipython2",
   "version": "2.7.6"
  }
 },
 "nbformat": 4,
 "nbformat_minor": 5
}
