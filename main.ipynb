{
 "cells": [
  {
   "cell_type": "code",
   "id": "initial_id",
   "metadata": {
    "collapsed": true,
    "ExecuteTime": {
     "end_time": "2025-01-17T21:05:56.042023Z",
     "start_time": "2025-01-17T21:05:56.039417Z"
    }
   },
   "source": [
    "import pygad\n",
    "import numpy as np"
   ],
   "outputs": [],
   "execution_count": 135
  },
  {
   "metadata": {},
   "cell_type": "markdown",
   "source": [
    "The following are mock example to the signatures required when working with pygad infrastructure.\n",
    "We will need to update the references will the article."
   ],
   "id": "c1a3804e0f26d27e"
  },
  {
   "metadata": {
    "ExecuteTime": {
     "end_time": "2025-01-17T21:05:56.060323Z",
     "start_time": "2025-01-17T21:05:56.056957Z"
    }
   },
   "cell_type": "code",
   "source": [
    "def mutation_func(offspring, ga_instance: pygad.GA):\n",
    "    \"\"\"\n",
    "    Custom mutation function format\n",
    "    :param offspring:\n",
    "    :param ga_instance:\n",
    "    :return:\n",
    "    \"\"\"\n",
    "\n",
    "    return offspring"
   ],
   "id": "1553af2e295465f0",
   "outputs": [],
   "execution_count": 136
  },
  {
   "metadata": {
    "ExecuteTime": {
     "end_time": "2025-01-17T21:05:56.067644Z",
     "start_time": "2025-01-17T21:05:56.064315Z"
    }
   },
   "cell_type": "code",
   "source": [
    "def crossover_func(parents, offspring_size, ga_instance: pygad.GA):\n",
    "    \"\"\"\n",
    "    Custom crossover function format.\n",
    "    :param parents:\n",
    "    :param offspring_size:\n",
    "    :param ga_instance:\n",
    "    :return:\n",
    "    \"\"\"\n",
    "    return 1"
   ],
   "id": "391aa70788bb6bda",
   "outputs": [],
   "execution_count": 137
  },
  {
   "metadata": {
    "ExecuteTime": {
     "end_time": "2025-01-17T21:07:18.143852Z",
     "start_time": "2025-01-17T21:07:18.137633Z"
    }
   },
   "cell_type": "code",
   "source": [
    "function_weights = np.array([-4, 5, 7, 2.3, -2, 9, 9, -2, 5, 12, 57, 42, 42, 1, -3])\n",
    "desired_output = 100\n",
    "epsilon = 0.00001 # To prevent division by 0 errors.\n",
    "potential_solutions = np.random.randint(-10, 10, (len(function_weights),len(function_weights)))\n",
    "potential_solutions"
   ],
   "id": "a372645f1d64ae5",
   "outputs": [
    {
     "data": {
      "text/plain": [
       "array([[ -1,  -3,   8,  -2,  -3, -10,  -7,  -5, -10,  -3,  -3,   3,  -2,\n",
       "         -7,  -9],\n",
       "       [ -2,   6,  -3,   3,   0,  -6,   0,  -1,   9,  -1,   8,  -1,  -5,\n",
       "         -9,  -4],\n",
       "       [  4,  -5,   5,   0,   1,  -5,   7,  -3,   0,   4,   4,   5,   1,\n",
       "         -1,   4],\n",
       "       [ -7,   1,   9,  -1,   7,  -5,   7,   8,  -8,  -4,  -4,  -1,   2,\n",
       "          0,  -3],\n",
       "       [  3,   5,  -9,   9,  -6,  -6,   9,   1,  -1,  -2,   5,   7,  -8,\n",
       "         -3,  -5],\n",
       "       [  0,  -9,   9,   8,   4,   3,   1,   5,  -7,  -9,   7,   2,  -3,\n",
       "         -9,   1],\n",
       "       [  5,   1,  -1,   6,  -1,   4, -10,  -3,  -2,  -5,  -8,   2,  -2,\n",
       "         -3,  -3],\n",
       "       [ -4, -10,  -6,  -7,  -6,   1,  -4,   1,   1,   8,   8,  -8,  -6,\n",
       "          1,  -6],\n",
       "       [ -5, -10,  -7,   6,  -3,  -4,   7,   7,  -6,  -6,   4,  -9,   4,\n",
       "         -2,   6],\n",
       "       [  5,  -6,  -7,   2,   0,   7,  -3,  -9,  -4,   7,   7,  -6,   6,\n",
       "          8,   7],\n",
       "       [  7,  -2,  -2,   4,   2,  -5,   5,  -2,   7,  -6,   7,   3, -10,\n",
       "         -6,   8],\n",
       "       [  1,   1,   4,  -1,  -2,  -6,   9,  -7,   6,   1,  -3,  -8,  -1,\n",
       "         -2,  -7],\n",
       "       [  0,   6,  -2,   9,  -6,   0,   6,   8,   5,   9,   7,  -7,  -3,\n",
       "         -6,   1],\n",
       "       [ -8,   7,   7,  -9,   8,   4,  -3,  -9,  -7,   9,  -3,  -3,   2,\n",
       "          8,   7],\n",
       "       [  6,   8,  -3,  -2,  -6,  -8,   0,   7,  -3,  -2,   7,   4,  -8,\n",
       "         -3,   4]], dtype=int32)"
      ]
     },
     "execution_count": 145,
     "metadata": {},
     "output_type": "execute_result"
    }
   ],
   "execution_count": 145
  },
  {
   "metadata": {
    "ExecuteTime": {
     "end_time": "2025-01-17T21:07:18.207241Z",
     "start_time": "2025-01-17T21:07:18.203252Z"
    }
   },
   "cell_type": "code",
   "source": [
    "def fitness_func_arr_of_weights(ga_instance, solution, solution_idx):\n",
    "    # Coded as an array of weights.\n",
    "    # TODO Here we can insert the feature selection and train the model, then classify, to measure fitness.\n",
    "    # TODO The higher fitness, the better.\n",
    "    summed_rows = np.sum(potential_solutions, axis=1)\n",
    "    solution_to_check = np.multiply(summed_rows, solution)\n",
    "    output = np.sum(solution_to_check * function_weights)\n",
    "    fitness = 1.0 / (np.abs(output - desired_output) + epsilon) #\n",
    "    return fitness"
   ],
   "id": "86c26a9bf6d87764",
   "outputs": [],
   "execution_count": 146
  },
  {
   "metadata": {
    "ExecuteTime": {
     "end_time": "2025-01-17T21:07:18.267826Z",
     "start_time": "2025-01-17T21:07:18.264723Z"
    }
   },
   "cell_type": "code",
   "source": "fitness_function = fitness_func_arr_of_weights",
   "id": "33a599ebf671f962",
   "outputs": [],
   "execution_count": 147
  },
  {
   "metadata": {
    "ExecuteTime": {
     "end_time": "2025-01-17T21:07:18.485035Z",
     "start_time": "2025-01-17T21:07:18.298736Z"
    }
   },
   "cell_type": "code",
   "source": [
    "num_generations = 300\n",
    "num_parents_mating = 4\n",
    "\n",
    "sol_per_pop = 12\n",
    "num_genes = function_weights.size # Use this to control the number of feature selection potential solutions is used.\n",
    "\n",
    "init_range_low = 0\n",
    "init_range_high = 10\n",
    "\n",
    "parent_selection_type = \"sss\" #steady-state selection, meaning it selects the parents with the highest fitness.\n",
    "keep_parents = 1\n",
    "\n",
    "crossover_type = \"single_point\" # Swaps the chromosomes from a certain index onwards between the parents.\n",
    "\n",
    "mutation_type = \"random\"\n",
    "mutation_percent_genes = 20\n",
    "ga_instance = pygad.GA(num_generations=num_generations,\n",
    "                       num_parents_mating=num_parents_mating, # Num of parents to select each generation.\n",
    "                       fitness_func=fitness_function,\n",
    "                       sol_per_pop=sol_per_pop, # Number of solutions per population.\n",
    "                       num_genes=num_genes, # Effectively, the thing that is tweaked for each generation.\n",
    "                       # gene_type=list[float], # The type of gene, meaning of each value inside a chromosome. Supports list.\n",
    "                       init_range_low=init_range_low, # dependent on the gene type, the range of values to be generated.\n",
    "                       init_range_high=init_range_high,\n",
    "                       parent_selection_type=parent_selection_type,\n",
    "                       keep_parents=keep_parents, # Number of parents to keep from current population.\n",
    "                       # keep_elitism = 1, # The number of the solutions with the best fitness that will be kept for next generation.\n",
    "                       crossover_type=crossover_type,\n",
    "                       mutation_type=mutation_type,\n",
    "                       mutation_by_replacement=True, # If the previous gene is replaced or not.\n",
    "                       mutation_percent_genes=mutation_percent_genes, # The probability that each gene will be mutated\n",
    "                       # crossover_type=crossover_func, Can be used to customize a crossover func.\n",
    "                       # mutation_type=mutation_func, Can be used to customize a mutation func.\n",
    "                       )\n",
    "\n",
    "ga_instance.run()\n",
    "print('--------------------------------------------------')\n",
    "print(f'Generation: {num_generations}')\n",
    "solution, solution_fitness, solution_idx = ga_instance.best_solution()\n",
    "print(\"Parameters of the best solution : {solution}\".format(solution=solution))\n",
    "print(\"Fitness value of the best solution = {solution_fitness}\".format(solution_fitness=solution_fitness))\n",
    "summed_rows_out = np.sum(potential_solutions, axis=1)\n",
    "solution_to_check_out = np.multiply(summed_rows_out, solution)\n",
    "output_out = np.sum(solution_to_check_out * function_weights)\n",
    "print(\"Predicted output based on the best solution : {prediction}\".format(prediction=output_out))"
   ],
   "id": "ab9948655ce51705",
   "outputs": [
    {
     "name": "stdout",
     "output_type": "stream",
     "text": [
      "--------------------------------------------------\n",
      "Generation: 300\n",
      "Parameters of the best solution : [-0.1738395   0.89027897  0.33484376 -0.16969611  0.49959872 -0.24377263\n",
      " -0.57551577 -0.88331578  0.5418738   9.30269753  3.23977195  4.85333213\n",
      " -0.19225629  0.02458481  0.83777856]\n",
      "Fitness value of the best solution = 11.35882389454771\n",
      "Predicted output based on the best solution : 100.0880272835501\n"
     ]
    }
   ],
   "execution_count": 148
  },
  {
   "metadata": {},
   "cell_type": "markdown",
   "source": "Visualize:",
   "id": "f9e89cb3745bdf25"
  },
  {
   "metadata": {
    "ExecuteTime": {
     "end_time": "2025-01-17T21:07:18.691538Z",
     "start_time": "2025-01-17T21:07:18.489027Z"
    }
   },
   "cell_type": "code",
   "source": "ga_instance.plot_fitness()",
   "id": "4ac64ad8de2a0f05",
   "outputs": [
    {
     "data": {
      "text/plain": [
       "<Figure size 640x480 with 1 Axes>"
      ],
      "image/png": "[encoded data removed]"
     },
     "metadata": {},
     "output_type": "display_data"
    },
    {
     "data": {
      "text/plain": [
       "<Figure size 640x480 with 1 Axes>"
      ],
      "image/png": "[encoded data removed]"
     },
     "execution_count": 149,
     "metadata": {},
     "output_type": "execute_result"
    }
   ],
   "execution_count": 149
  },
  {
   "metadata": {
    "ExecuteTime": {
     "end_time": "2025-01-17T21:07:18.713197Z",
     "start_time": "2025-01-17T21:07:18.710955Z"
    }
   },
   "cell_type": "code",
   "source": "",
   "id": "e7037182829a868f",
   "outputs": [],
   "execution_count": null
  },
  {
   "metadata": {
    "ExecuteTime": {
     "end_time": "2025-01-17T21:07:18.727627Z",
     "start_time": "2025-01-17T21:07:18.725594Z"
    }
   },
   "cell_type": "code",
   "source": "",
   "id": "1cf49c8a15053b49",
   "outputs": [],
   "execution_count": null
  }
 ],
 "metadata": {
  "kernelspec": {
   "display_name": "Python 3",
   "language": "python",
   "name": "python3"
  },
  "language_info": {
   "codemirror_mode": {
    "name": "ipython",
    "version": 2
   },
   "file_extension": ".py",
   "mimetype": "text/x-python",
   "name": "python",
   "nbconvert_exporter": "python",
   "pygments_lexer": "ipython2",
   "version": "2.7.6"
  }
 },
 "nbformat": 4,
 "nbformat_minor": 5
}
