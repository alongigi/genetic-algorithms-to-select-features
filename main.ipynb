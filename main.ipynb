{
 "cells": [
  {
   "cell_type": "code",
   "id": "initial_id",
   "metadata": {
    "collapsed": true
   },
   "source": [
    "!pip install ucimlrepo\n",
    "!pip install pygad"
   ],
   "outputs": [],
   "execution_count": null
  },
  {
   "cell_type": "code",
   "id": "2bec33f7cae768a4",
   "metadata": {
    "ExecuteTime": {
     "end_time": "2025-01-25T17:08:24.966690Z",
     "start_time": "2025-01-25T17:08:22.703757Z"
    }
   },
   "source": [
    "import pandas as pd\n",
    "import numpy as np\n",
    "import pygad\n",
    "from ucimlrepo import fetch_ucirepo\n",
    "from sklearn.preprocessing import MinMaxScaler\n",
    "from sklearn.model_selection import train_test_split\n",
    "from sklearn.ensemble import RandomForestClassifier\n",
    "from sklearn.metrics import accuracy_score, classification_report\n",
    "from sklearn.feature_selection import SelectKBest\n",
    "import heapq\n"
   ],
   "outputs": [],
   "execution_count": 2
  },
  {
   "cell_type": "code",
   "id": "775d6e9179d6b50f",
   "metadata": {
    "ExecuteTime": {
     "end_time": "2025-01-25T17:08:22.700244Z",
     "start_time": "2025-01-25T17:08:22.687792Z"
    }
   },
   "source": [
    "# Indexes of relevant databases.\n",
    "ISOLET_DB_INDEX: int = 54\n",
    "SPAMBASE_DB_INDEX: int = 94"
   ],
   "outputs": [],
   "execution_count": 1
  },
  {
   "cell_type": "markdown",
   "id": "427827ac8230572d",
   "metadata": {},
   "source": [
    "Importing and handling the dataset:"
   ]
  },
  {
   "metadata": {
    "ExecuteTime": {
     "end_time": "2025-01-25T18:48:35.825458Z",
     "start_time": "2025-01-25T18:48:24.717957Z"
    }
   },
   "cell_type": "code",
   "source": [
    "# Read dataset\n",
    "print(\"reading isolet\")\n",
    "isolet_db = fetch_ucirepo(id=ISOLET_DB_INDEX)\n",
    "\n",
    "isolet_features = isolet_db.data.features\n",
    "isolet_target_variables = isolet_db.data.targets\n",
    "\n",
    "print(\"reading spambase\")\n",
    "# Read dataset\n",
    "spambase_db = fetch_ucirepo(id=SPAMBASE_DB_INDEX)\n",
    "\n",
    "spambase_features = spambase_db.data.features\n",
    "spambase_target_variables = spambase_db.data.targets"
   ],
   "id": "8e3653a86502cc81",
   "outputs": [
    {
     "name": "stdout",
     "output_type": "stream",
     "text": [
      "reading isolet\n",
      "reading spambase\n"
     ]
    }
   ],
   "execution_count": 62
  },
  {
   "metadata": {
    "ExecuteTime": {
     "end_time": "2025-01-25T17:08:29.621721Z",
     "start_time": "2025-01-25T17:08:29.612326Z"
    }
   },
   "cell_type": "code",
   "outputs": [],
   "execution_count": 3,
   "source": [
    "VERBOSE: bool = False # For more robust error messages\n",
    "RANDOM_FOREST_SEED: int = 42\n",
    "\n",
    "db = [isolet_db, spambase_db]\n",
    "features = [isolet_features, spambase_features]\n",
    "target_variables = [isolet_target_variables, spambase_target_variables]\n",
    "\n",
    "FEATURES_TO_SELECT = [5, 40]\n",
    "\n",
    "TEST_TRAIN_SPLIT = 0.2\n",
    "RANDOM_STATE_OF_DATA_SPLIT = 42\n",
    "\n",
    "# Genetic Algorithm parameters\n",
    "NUMBER_OF_GENERATIONS = [1, 5, 20]\n",
    "NUMBER_OF_PARENTS_MATING = 4\n",
    "\n",
    "SOLUTIONS_PER_POPULATION = 12\n",
    "NUMBER_OF_GENES = 5 # Use this to control the number of feature selection potential solutions is used.\n",
    "\n",
    "INIT_RANGE_LOW = 0\n",
    "INIT_RANGE_HIGH = 1\n",
    "\n",
    "PARENT_SELECTION_TYPE = [\"sss\", \"rank\"] #steady-state selection, meaning it selects the parents with the highest fitness.\n",
    "KEEP_PARENTS = 1\n",
    "\n",
    "CROSSOVER_TYPE = \"single_point\" # Swaps the chromosomes from a certain index onwards between the parents.\n",
    "\n",
    "MUTATION_TYPE = \"random\"\n",
    "MUTATION_PERCENT_GENES = 20"
   ],
   "id": "ef2652aa59d70ba5"
  },
  {
   "metadata": {
    "ExecuteTime": {
     "end_time": "2025-01-25T17:08:41.422159Z",
     "start_time": "2025-01-25T17:08:41.391259Z"
    }
   },
   "cell_type": "code",
   "outputs": [
    {
     "name": "stdout",
     "output_type": "stream",
     "text": [
      "Missing values in X: 0\n",
      "Missing values in y: 0\n",
      "Minimum value across all features: -1.0\n",
      "Maximum value across all features: 1.0\n"
     ]
    }
   ],
   "execution_count": 5,
   "source": [
    "# Print missing values and maximum and minimum values in the features of the first dataset\n",
    "X_df = pd.DataFrame(features)\n",
    "y_df = pd.DataFrame(target_variables)\n",
    "\n",
    "print(\"Missing values in X:\", X_df.isnull().sum().sum())\n",
    "print(\"Missing values in y:\", y_df.isnull().sum().sum())\n",
    "\n",
    "print(\"Minimum value across all features:\", X_df.min().min())\n",
    "print(\"Maximum value across all features:\", X_df.max().max())"
   ],
   "id": "5d33b31bad0421c1"
  },
  {
   "metadata": {
    "ExecuteTime": {
     "end_time": "2025-01-25T17:08:41.510994Z",
     "start_time": "2025-01-25T17:08:41.457625Z"
    }
   },
   "cell_type": "code",
   "outputs": [
    {
     "name": "stdout",
     "output_type": "stream",
     "text": [
      "0.0\n",
      "1.0000000000000002\n"
     ]
    }
   ],
   "execution_count": 6,
   "source": [
    "# Normalize the dataset\n",
    "scaler = MinMaxScaler()\n",
    "X_scaled = scaler.fit_transform(X_df)\n",
    "\n",
    "X_scaled_df = pd.DataFrame(X_scaled, columns=X_df.columns)\n",
    "\n",
    "print(X_scaled_df.min().min())\n",
    "print(X_scaled_df.max().max())"
   ],
   "id": "64313dee7d6054df"
  },
  {
   "metadata": {
    "ExecuteTime": {
     "end_time": "2025-01-25T17:08:41.521144Z",
     "start_time": "2025-01-25T17:08:41.517159Z"
    }
   },
   "cell_type": "code",
   "outputs": [],
   "execution_count": 7,
   "source": [
    "data_after_scaling = X_scaled_df\n",
    "target_variables = y_df.values.ravel()"
   ],
   "id": "88c0991ca7f0b398"
  },
  {
   "cell_type": "markdown",
   "id": "4121de36c96f5cba",
   "metadata": {},
   "source": [
    "Feature selection functions"
   ]
  },
  {
   "cell_type": "code",
   "id": "641eabc4d83c5a34",
   "metadata": {
    "ExecuteTime": {
     "end_time": "2025-01-25T17:08:41.600444Z",
     "start_time": "2025-01-25T17:08:41.594891Z"
    }
   },
   "source": [
    "def get_top_k_features(selector,\n",
    "                       feature_names: list,\n",
    "                       top_features_to_select: int,\n",
    "                       algorithm: str,\n",
    "                       verbose: bool = False,\n",
    "                       normalize_score: bool = True):\n",
    "  \"\"\"\n",
    "  Get the top k features based on their scores from a SelectKBest selector.\n",
    "\n",
    "  Parameters:\n",
    "  selector (SelectKBest): Fitted SelectKBest object.\n",
    "  feature_names (list): List of feature names (columns of X).\n",
    "  k (int): Number of top features to select.\n",
    "  algorithm (str): The name of the feature selection algorithm.\n",
    "  verbose (bool): Decide whether to print model results or not.\n",
    "  normalize_score (bool): Decide whether to normalize the score or not.\n",
    "\n",
    "\n",
    "  Returns:\n",
    "  A dataframe that contains 2 columns: The first is \"Feature\" and is the feature name and the second is a score, normalization is dependent on the var sent..\n",
    "\n",
    "  \"\"\"\n",
    "  # Retrieve feature scores\n",
    "  scores = selector.scores_\n",
    "\n",
    "  if normalize_score:\n",
    "      scores = scores / np.nansum(scores)\n",
    "\n",
    "  feature_ranking = pd.DataFrame({\n",
    "    'Feature': feature_names,\n",
    "    'Score': scores\n",
    "  }).sort_values(by='Score', ascending=False)\n",
    "  if verbose:\n",
    "    # Display top-ranked features\n",
    "    print(f\"Feature Rankings using {algorithm}:\")\n",
    "    print(feature_ranking)\n",
    "\n",
    "\n",
    "  # Return selected top k features\n",
    "  return feature_ranking.head(top_features_to_select)"
   ],
   "outputs": [],
   "execution_count": 8
  },
  {
   "cell_type": "code",
   "id": "b8a8d5a8331edcf9",
   "metadata": {
    "ExecuteTime": {
     "end_time": "2025-01-25T17:08:41.650698Z",
     "start_time": "2025-01-25T17:08:41.644537Z"
    }
   },
   "source": [
    "def train_and_fit_random_forest(X_train, X_test, y_train, y_test, verbose: bool = VERBOSE):\n",
    "  \"\"\"\n",
    "  Builds, trains, and evaluates a Random Forest classification model.\n",
    "\n",
    "  Parameters:\n",
    "  ----------\n",
    "  X_train : pd.DataFrame or np.ndarray\n",
    "      Feature matrix for training the model.\n",
    "  X_test : pd.DataFrame or np.ndarray\n",
    "      Feature matrix for testing the model.\n",
    "  y_train : pd.Series or np.ndarray\n",
    "      Target labels for training the model.\n",
    "  y_test : pd.Series or np.ndarray\n",
    "      True target labels for testing the model.\n",
    "  verbose (bool): Decide whether to print model results or not\n",
    "\n",
    "  Returns:\n",
    "  float: The accuracy of the model on the selected features\n",
    "  \"\"\"\n",
    "  # Build a simple classification model\n",
    "  model = RandomForestClassifier(random_state=RANDOM_FOREST_SEED)\n",
    "  model.fit(X_train, y_train)\n",
    "\n",
    "  # Make predictions\n",
    "  y_pred = model.predict(X_test)\n",
    "\n",
    "  # Evaluate the model\n",
    "  accuracy = accuracy_score(y_test, y_pred)\n",
    "  if verbose:\n",
    "    print(\"Model Accuracy:\", accuracy)\n",
    "    # Detailed performance metrics\n",
    "    print(\"\\nClassification Report:\")\n",
    "    print(classification_report(y_test, y_pred))\n",
    "\n",
    "  # Return the accuracy of the model\n",
    "  return accuracy\n"
   ],
   "outputs": [],
   "execution_count": 10
  },
  {
   "cell_type": "markdown",
   "id": "fedf31d48d2d5d3d",
   "metadata": {},
   "source": [
    "Import all the feature selection algorithms."
   ]
  },
  {
   "cell_type": "code",
   "id": "99638d58bd84024",
   "metadata": {
    "ExecuteTime": {
     "end_time": "2025-01-25T17:08:41.960205Z",
     "start_time": "2025-01-25T17:08:41.953198Z"
    }
   },
   "source": [
    "from sklearn.feature_selection import chi2\n",
    "from sklearn.feature_selection import mutual_info_classif\n",
    "from sklearn.feature_selection import mutual_info_regression\n",
    "from sklearn.feature_selection import f_classif\n",
    "from sklearn.feature_selection import f_regression\n",
    "\n",
    "mutual_info_classif_with_random_state = lambda X, y: mutual_info_classif(X, y, random_state=42)\n",
    "mutual_info_regression_with_random_state = lambda X, y: mutual_info_regression(X, y, random_state=42)\n",
    "\n",
    "# Selects features based on the k best scores. Here k is 'all'.\n",
    "classifier_chi2: SelectKBest = SelectKBest(score_func=chi2, k='all')\n",
    "classifier_mutual_info_classif: SelectKBest = SelectKBest(score_func=mutual_info_classif_with_random_state, k='all')\n",
    "classifier_mutual_info_regression: SelectKBest = SelectKBest(score_func=mutual_info_regression_with_random_state, k='all')\n",
    "classifier_f_classif: SelectKBest = SelectKBest(score_func=f_classif, k='all')\n",
    "classifier_f_regression: SelectKBest = SelectKBest(score_func=f_regression, k='all')"
   ],
   "outputs": [],
   "execution_count": 12
  },
  {
   "cell_type": "markdown",
   "id": "2a1efd3ac68487d7",
   "metadata": {},
   "source": [
    "Preselecting all the features with each classifier to get a feature ranking."
   ]
  },
  {
   "cell_type": "code",
   "id": "f0b36a01d9e3141e",
   "metadata": {
    "ExecuteTime": {
     "end_time": "2025-01-25T17:09:31.488957Z",
     "start_time": "2025-01-25T17:08:49.361797Z"
    }
   },
   "source": [
    "# Fits all the feature selection algorithms.\n",
    "\n",
    "selector_list = [\n",
    "    (classifier_chi2, \"classifier_chi2\"),\n",
    "    (classifier_mutual_info_classif, \"classifier_mutual_info_classif\"),\n",
    "    (classifier_mutual_info_regression, \"classifier_mutual_info_regression\"),\n",
    "    (classifier_f_classif, \"classifier_f_classif\"),\n",
    "    (classifier_f_regression, \"classifier_f_regression\")\n",
    "]\n",
    "features_selected_by_each_algorithm: dict = dict()\n",
    "for selector_in_list in selector_list:\n",
    "    selector_in_list: tuple[SelectKBest, str]\n",
    "    selector_in_list[0].fit(data_after_scaling, target_variables)\n",
    "      # Rank the features using Chi-Square algorithm\n",
    "    top_features = get_top_k_features(\n",
    "        selector=selector_in_list[0],\n",
    "        feature_names=features.columns,\n",
    "        top_features_to_select=len(features.columns), #todo change back?\n",
    "        algorithm=selector_in_list[1],\n",
    "    )\n",
    "    features_selected_by_each_algorithm[selector_in_list[1]] = top_features\n"
   ],
   "outputs": [],
   "execution_count": 14
  },
  {
   "metadata": {
    "ExecuteTime": {
     "end_time": "2025-01-25T17:09:31.531886Z",
     "start_time": "2025-01-25T17:09:31.525548Z"
    }
   },
   "cell_type": "code",
   "outputs": [],
   "execution_count": 15,
   "source": [
    "def weighted_combine_feature_scores(features_selected_by_each_algorithm_in_func: dict[str, pd.DataFrame],\n",
    "                                    weights: list[float],\n",
    "                                    verbose: bool = VERBOSE) -> pd.DataFrame:\n",
    "    \"\"\"\n",
    "    Sums all the features selected by each algorithm, multiplying each feature by the weight corresponding to its index.\n",
    "    :param features_selected_by_each_algorithm_in_func:\n",
    "    :param weights:\n",
    "    :param verbose: Printing relevant messages.\n",
    "    :return:\n",
    "    \"\"\"\n",
    "    if len(features_selected_by_each_algorithm_in_func) != len(weights):\n",
    "        raise ValueError(\"Number of weights does not match number of features selectors\")\n",
    "    combined_scores = pd.DataFrame({\n",
    "        'Feature': [],\n",
    "        'Score': []\n",
    "    })\n",
    "    index = 0\n",
    "    for algorithm_name, features_selected_by_algorithm in features_selected_by_each_algorithm_in_func.items():\n",
    "        if verbose:\n",
    "            print(f'Combining scores for {algorithm_name}, its weight is: {weights[index]}')\n",
    "\n",
    "        features_selected_by_algorithm['Score'] = features_selected_by_algorithm['Score'] * weights[index]\n",
    "        combined_scores = pd.merge(combined_scores,\n",
    "                               features_selected_by_algorithm,\n",
    "                               on='Feature', how='outer', suffixes=('_df1', '_df2'))\n",
    "\n",
    "        # Sum the scores where both exist, fill NaN with 0 for features that only exist in one of the dataframes\n",
    "        combined_scores['Score'] = combined_scores['Score_df1'].fillna(0) + combined_scores['Score_df2'].fillna(0)\n",
    "\n",
    "        # Drop the original score columns if not needed\n",
    "        combined_scores = combined_scores[['Feature', 'Score']]\n",
    "        index += 1\n",
    "    return combined_scores"
   ],
   "id": "bf04ba6ab50bc8cc"
  },
  {
   "metadata": {},
   "cell_type": "markdown",
   "source": "Genetic Algorithm part, will use the cells created above.",
   "id": "41fd9161dd569135"
  },
  {
   "cell_type": "markdown",
   "id": "f58d7337b2f9fe12",
   "metadata": {},
   "source": [
    "Running the genetic algorithm, using the other feature selection methods"
   ]
  },
  {
   "cell_type": "code",
   "id": "f4110f85d8de9d9b",
   "metadata": {
    "ExecuteTime": {
     "end_time": "2025-01-25T17:09:31.616378Z",
     "start_time": "2025-01-25T17:09:31.611240Z"
    }
   },
   "source": [
    "def fitness_func_as_weights_to_use_from_each_algorithm(ga_instance, solution, solution_idx):\n",
    "    combined_scores = weighted_combine_feature_scores(features_selected_by_each_algorithm_in_func=features_selected_by_each_algorithm,\n",
    "                                                      weights=solution)\n",
    "    combined_sorted_scores = combined_scores.sort_values(by=['Score'], ascending=False)\n",
    "    list_of_sorted_features = combined_sorted_scores.head(FEATURES_TO_SELECT)['Feature'].tolist()\n",
    "    data_with_top_features = data_after_scaling[list_of_sorted_features]\n",
    "\n",
    "    X_train, X_test, y_train, y_test = train_test_split(data_with_top_features, target_variables, test_size=TEST_TRAIN_SPLIT, random_state=RANDOM_STATE_OF_DATA_SPLIT)\n",
    "    # Train and fit random forest classification model based on feature selected\n",
    "    accuracy = train_and_fit_random_forest(X_train, X_test, y_train, y_test)\n",
    "    if VERBOSE:\n",
    "        print(f'model_accuracy: {accuracy}')\n",
    "    return accuracy"
   ],
   "outputs": [],
   "execution_count": 18
  },
  {
   "metadata": {
    "ExecuteTime": {
     "end_time": "2025-01-25T19:18:13.931340Z",
     "start_time": "2025-01-25T19:18:13.926534Z"
    }
   },
   "cell_type": "code",
   "source": "NUMBER_OF_GENERATIONS",
   "id": "5c86a5bc42385c5",
   "outputs": [
    {
     "data": {
      "text/plain": [
       "1"
      ]
     },
     "execution_count": 63,
     "metadata": {},
     "output_type": "execute_result"
    }
   ],
   "execution_count": 63
  },
  {
   "metadata": {
    "ExecuteTime": {
     "end_time": "2025-01-25T19:46:47.350336Z",
     "start_time": "2025-01-25T19:46:47.333898Z"
    }
   },
   "cell_type": "code",
   "source": [
    "fitness_values = []\n",
    "# Define a callback function to save fitness values at each generation\n",
    "def save_fitness_at_generation(ga_instance, my_l):\n",
    "    my_l.append(ga_instance.best_solution()[1])"
   ],
   "id": "d2dd3b29f1fdbe8f",
   "outputs": [],
   "execution_count": 82
  },
  {
   "cell_type": "code",
   "id": "e69ec6e51c9fa814",
   "metadata": {
    "ExecuteTime": {
     "end_time": "2025-01-25T19:48:41.678667Z",
     "start_time": "2025-01-25T19:47:10.348774Z"
    }
   },
   "source": [
    "my_l = []\n",
    "ga_instance_feature_selection_algorithms = (\n",
    "    pygad.GA(num_generations=2,\n",
    "             num_parents_mating=NUMBER_OF_PARENTS_MATING,  # Num of parents to select each generation.\n",
    "             fitness_func=fitness_func_as_weights_to_use_from_each_algorithm,\n",
    "             sol_per_pop=SOLUTIONS_PER_POPULATION,  # Number of solutions per population.\n",
    "             num_genes=NUMBER_OF_GENES,  # Effectively, the thing that is tweaked for each generation.\n",
    "             # gene_type=list[float], # The type of gene, meaning of each value inside a chromosome. Supports list.\n",
    "             init_range_low=INIT_RANGE_LOW,  # dependent on the gene type, the range of values to be generated.\n",
    "             init_range_high=INIT_RANGE_HIGH,\n",
    "             parent_selection_type=PARENT_SELECTION_TYPE,\n",
    "             keep_parents=KEEP_PARENTS,  # Number of parents to keep from current population.\n",
    "             # keep_elitism = 1, # The number of the solutions with the best fitness that will be kept for next generation.\n",
    "             crossover_type=CROSSOVER_TYPE,\n",
    "             mutation_type=MUTATION_TYPE,\n",
    "             mutation_by_replacement=True,  # If the previous gene is replaced or not.\n",
    "             mutation_percent_genes=MUTATION_PERCENT_GENES,  # The probability that each gene will be mutated\n",
    "             # crossover_type=crossover_func, Can be used to customize a crossover func.\n",
    "             # mutation_type=mutation_func, Can be used to customize a mutation func.\n",
    "             on_generation=lambda x: save_fitness_at_generation(x, my_l)\n",
    "             )\n",
    ")\n",
    "\n",
    "ga_instance_feature_selection_algorithms.run()\n",
    "print('Running feature selection based on other feature selection algorithms')\n",
    "print('--------------------------------------------------')\n",
    "print(f'Generation: {NUMBER_OF_GENERATIONS}')\n",
    "solution, solution_fitness, solution_idx = ga_instance_feature_selection_algorithms.best_solution()\n",
    "print(\"Parameters of the best solution : {solution}\".format(solution=solution))\n",
    "print(\"Fitness value of the best solution = {solution_fitness}\".format(solution_fitness=solution_fitness))\n",
    "my_l.append(solution_fitness)\n",
    "my_l"
   ],
   "outputs": [
    {
     "name": "stdout",
     "output_type": "stream",
     "text": [
      "Running feature selection based on other feature selection algorithms\n",
      "--------------------------------------------------\n",
      "Generation: 1\n",
      "Parameters of the best solution : [-0.19416223  0.24143723  0.14662245  0.98331885  0.32602878]\n",
      "Fitness value of the best solution = 0.35384615384615387\n"
     ]
    },
    {
     "data": {
      "text/plain": [
       "[np.float64(0.3269230769230769),\n",
       " np.float64(0.3641025641025641),\n",
       " np.float64(0.35384615384615387)]"
      ]
     },
     "execution_count": 83,
     "metadata": {},
     "output_type": "execute_result"
    }
   ],
   "execution_count": 83
  },
  {
   "metadata": {
    "ExecuteTime": {
     "end_time": "2025-01-25T19:34:24.743854Z",
     "start_time": "2025-01-25T19:34:24.584319Z"
    }
   },
   "cell_type": "code",
   "source": "ga_instance_feature_selection_algorithms.plot_fitness()",
   "id": "bb18d430f129fda1",
   "outputs": [
    {
     "name": "stderr",
     "output_type": "stream",
     "text": [
      "C:\\Users\\travkaie\\OneDrive - Intel Corporation\\Documents\\Projects\\research-methods-class\\.venv\\Lib\\site-packages\\pygad\\visualize\\plot.py:120: UserWarning: No artists with labels found to put in legend.  Note that artists whose label start with an underscore are ignored when legend() is called with no argument.\n",
      "  matplt.legend()\n"
     ]
    },
    {
     "data": {
      "text/plain": [
       "<Figure size 640x480 with 1 Axes>"
      ],
      "image/png": "[encoded data removed]"
     },
     "metadata": {},
     "output_type": "display_data"
    },
    {
     "data": {
      "text/plain": [
       "<Figure size 640x480 with 1 Axes>"
      ],
      "image/png": "[encoded data removed]"
     },
     "execution_count": 78,
     "metadata": {},
     "output_type": "execute_result"
    }
   ],
   "execution_count": 78
  },
  {
   "metadata": {
    "ExecuteTime": {
     "end_time": "2025-01-25T19:35:16.509323Z",
     "start_time": "2025-01-25T19:35:16.500221Z"
    }
   },
   "cell_type": "code",
   "source": [
    "my_l.append(solution_fitness)\n",
    "my_l"
   ],
   "id": "74acba4891b9bbc9",
   "outputs": [
    {
     "data": {
      "text/plain": [
       "[0.258974358974359, 0.258974358974359, np.float64(0.3384615384615385)]"
      ]
     },
     "execution_count": 79,
     "metadata": {},
     "output_type": "execute_result"
    }
   ],
   "execution_count": 79
  },
  {
   "metadata": {
    "ExecuteTime": {
     "end_time": "2025-01-25T19:36:07.490656Z",
     "start_time": "2025-01-25T19:36:07.408654Z"
    }
   },
   "cell_type": "code",
   "source": [
    "from matplotlib import pyplot as plt\n",
    "\n",
    "# Create a line plot\n",
    "plt.plot(my_l)\n",
    "\n",
    "# Add labels and title (optional but recommended for clarity)\n",
    "plt.xlabel(\"Generation\")\n",
    "plt.ylabel(\"Fitness Value\")\n",
    "plt.title(\"Fitness Value Over Generations\")\n",
    "# Display the plot\n",
    "plt.show()"
   ],
   "id": "bfd2185a1416940f",
   "outputs": [
    {
     "data": {
      "text/plain": [
       "<Figure size 640x480 with 1 Axes>"
      ],
      "image/png": "[encoded data removed]"
     },
     "metadata": {},
     "output_type": "display_data"
    }
   ],
   "execution_count": 81
  },
  {
   "metadata": {},
   "cell_type": "markdown",
   "source": "binary weights for each fs algorithm",
   "id": "a80e970e8dc75c89"
  },
  {
   "metadata": {},
   "cell_type": "code",
   "outputs": [],
   "execution_count": null,
   "source": [
    "ga_instance_selecting_features_directly = (\n",
    "    pygad.GA(num_generations=NUMBER_OF_GENERATIONS,\n",
    "             num_parents_mating=NUMBER_OF_PARENTS_MATING,  # Num of parents to select each generation.\n",
    "             fitness_func=fitness_func_as_weights_to_use_from_each_algorithm,\n",
    "             sol_per_pop=SOLUTIONS_PER_POPULATION,  # Number of solutions per population.\n",
    "             num_genes=NUMBER_OF_GENES,  # Effectively, the thing that is tweaked for each generation.\n",
    "             # gene_type=list[float], # The type of gene, meaning of each value inside a chromosome. Supports list.\n",
    "             init_range_low=INIT_RANGE_LOW,  # dependent on the gene type, the range of values to be generated.\n",
    "             init_range_high=INIT_RANGE_HIGH,\n",
    "             parent_selection_type=PARENT_SELECTION_TYPE,\n",
    "             keep_parents=KEEP_PARENTS,  # Number of parents to keep from current population.\n",
    "             # keep_elitism = 1, # The number of the solutions with the best fitness that will be kept for next generation.\n",
    "             crossover_type=CROSSOVER_TYPE,\n",
    "             mutation_type=MUTATION_TYPE,\n",
    "             mutation_by_replacement=True,  # If the previous gene is replaced or not.\n",
    "             mutation_percent_genes=MUTATION_PERCENT_GENES,  # The probability that each gene will be mutated\n",
    "             # crossover_type=crossover_func, Can be used to customize a crossover func.\n",
    "             # mutation_type=mutation_func, Can be used to customize a mutation func.\n",
    "             gene_space= [[0,1] for _ in range(NUMBER_OF_GENES)]\n",
    "             )\n",
    ")\n",
    "\n",
    "ga_instance_selecting_features_directly.run()\n",
    "print('Running feature selection based on simple binary weighted genetic algorithm')\n",
    "print('--------------------------------------------------')\n",
    "print(f'Generation: {NUMBER_OF_GENERATIONS}')\n",
    "solution, solution_fitness, solution_idx = ga_instance_selecting_features_directly.best_solution()\n",
    "print(\"Parameters of the best solution : {solution}\".format(solution=solution))\n",
    "print(\"Fitness value of the best solution = {solution_fitness}\".format(solution_fitness=solution_fitness))"
   ],
   "id": "ad33c6a3a74b4c29"
  },
  {
   "metadata": {},
   "cell_type": "markdown",
   "source": [
    "Running the genetic algorithm (With the same parameters as the previous genetic algorithm) but selecting the features directly.\n",
    "\n"
   ],
   "id": "c5964c00c30e91b5"
  },
  {
   "cell_type": "code",
   "id": "6b5a92a372240533",
   "metadata": {
    "ExecuteTime": {
     "end_time": "2025-01-25T17:55:34.443430Z",
     "start_time": "2025-01-25T17:55:34.427108Z"
    }
   },
   "source": [
    "def fitness_func_on_features_themselves(ga_instance, solution, solution_idx):\n",
    "    # raise NotImplementedError(\"Please implement selecting a feature based on the solution array\")\n",
    "    top_n_indexes = [index for value, index in heapq.nlargest(FEATURES_TO_SELECT, [(val, idx) for idx, val in enumerate(solution)], key=lambda x: x[0])]\n",
    "    filtered_list = [elem for i, elem in enumerate(features) if i in top_n_indexes]\n",
    "    filtered_df_list = data_after_scaling[filtered_list]\n",
    "\n",
    "    X_train, X_test, y_train, y_test = train_test_split(filtered_df_list, target_variables, test_size=TEST_TRAIN_SPLIT, random_state=RANDOM_STATE_OF_DATA_SPLIT)\n",
    "    # Train and fit random forest classification model based on feature selected\n",
    "    accuracy = train_and_fit_random_forest(X_train, X_test, y_train, y_test)\n",
    "    if VERBOSE:\n",
    "        print(f'model_accuracy: {accuracy}')\n",
    "\n",
    "    #penalty if too many features are selected\n",
    "    # num_selected_features = sum(solution)\n",
    "    # if num_selected_features > FEATURES_TO_SELECT:\n",
    "    #     accuracy/=num_selected_features\n",
    "    return accuracy"
   ],
   "outputs": [],
   "execution_count": 57
  },
  {
   "cell_type": "code",
   "id": "4af71898f6d7bf3e",
   "metadata": {
    "ExecuteTime": {
     "end_time": "2025-01-25T17:54:29.720332Z",
     "start_time": "2025-01-25T17:54:29.714071Z"
    }
   },
   "source": [
    "NUMBER_OF_POSSIBLE_FEATURES: int = len(features.columns) # <--- Add info here.\n",
    "# GENE_VALUES: list = [0, 1]"
   ],
   "outputs": [],
   "execution_count": 54
  },
  {
   "cell_type": "code",
   "id": "4e4d0dbc1cd8d461",
   "metadata": {
    "ExecuteTime": {
     "end_time": "2025-01-25T17:54:30.138090Z",
     "start_time": "2025-01-25T17:54:30.132801Z"
    }
   },
   "source": "gene_space = list(range(NUMBER_OF_POSSIBLE_FEATURES))",
   "outputs": [],
   "execution_count": 55
  },
  {
   "cell_type": "code",
   "id": "c751836ff8f2b957",
   "metadata": {
    "ExecuteTime": {
     "end_time": "2025-01-25T18:20:46.333137Z",
     "start_time": "2025-01-25T18:19:15.400472Z"
    }
   },
   "source": [
    "ga_instance_selecting_features_directly = (\n",
    "    pygad.GA(num_generations=NUMBER_OF_GENERATIONS,\n",
    "             num_parents_mating=NUMBER_OF_PARENTS_MATING,  # Num of parents to select each generation.\n",
    "             fitness_func=fitness_func_on_features_themselves,\n",
    "             sol_per_pop=SOLUTIONS_PER_POPULATION,  # Number of solutions per population.\n",
    "             num_genes=NUMBER_OF_POSSIBLE_FEATURES,  # Effectively, the thing that is tweaked for each generation.\n",
    "             # gene_type=list[float], # The type of gene, meaning of each value inside a chromosome. Supports list.\n",
    "             init_range_low=INIT_RANGE_LOW,  # dependent on the gene type, the range of values to be generated.\n",
    "             init_range_high=INIT_RANGE_HIGH,\n",
    "             parent_selection_type=PARENT_SELECTION_TYPE,\n",
    "             keep_parents=KEEP_PARENTS,  # Number of parents to keep from current population.\n",
    "             # keep_elitism = 1, # The number of the solutions with the best fitness that will be kept for next generation.\n",
    "             crossover_type=CROSSOVER_TYPE,\n",
    "             mutation_type=MUTATION_TYPE,\n",
    "             mutation_by_replacement=True,  # If the previous gene is replaced or not.\n",
    "             mutation_percent_genes=MUTATION_PERCENT_GENES,  # The probability that each gene will be mutated\n",
    "             # crossover_type=crossover_func, Can be used to customize a crossover func.\n",
    "             # mutation_type=mutation_func, Can be used to customize a mutation func.\n",
    "             gene_space=gene_space\n",
    "             )\n",
    ")\n",
    "\n",
    "ga_instance_selecting_features_directly.run()\n",
    "print('Running feature selection based on simple genetic algorithm')\n",
    "print('--------------------------------------------------')\n",
    "print(f'Generation: {NUMBER_OF_GENERATIONS}')\n",
    "solution, solution_fitness, solution_idx = ga_instance_selecting_features_directly.best_solution()\n",
    "solution_limited = [index for value, index in heapq.nlargest(FEATURES_TO_SELECT, [(val, idx) for idx, val in enumerate(solution)], key=lambda x: x[0])]\n",
    "print(\"Parameters of the best solution : {solution}\".format(solution=solution_limited))\n",
    "print(\"Fitness value of the best solution = {solution_fitness}\".format(solution_fitness=solution_fitness))"
   ],
   "outputs": [
    {
     "name": "stdout",
     "output_type": "stream",
     "text": [
      "Running feature selection based on simple genetic algorithm\n",
      "--------------------------------------------------\n",
      "Generation: 1\n",
      "Parameters of the best solution : [349, 105, 10, 7, 290]\n",
      "Fitness value of the best solution = 0.3974358974358974\n"
     ]
    }
   ],
   "execution_count": 60
  },
  {
   "cell_type": "markdown",
   "id": "cf23b80a10461249",
   "metadata": {},
   "source": [
    "Training the model with the features selected by each algorithm individually to achieve ablation study."
   ]
  },
  {
   "cell_type": "code",
   "id": "52e546e8f8eb92b1",
   "metadata": {
    "ExecuteTime": {
     "end_time": "2025-01-25T17:17:20.686596Z",
     "start_time": "2025-01-25T17:17:14.125590Z"
    }
   },
   "source": [
    "# Checking the performance of the features selected by each model independently.\n",
    "\n",
    "for feature_selection_method_name, features_selected_with_score in features_selected_by_each_algorithm.items():\n",
    "    features_selected_by_algorithm = features_selected_with_score.head(FEATURES_TO_SELECT)['Feature'].tolist()\n",
    "    data_after_selecting_features = data_after_scaling[features_selected_by_algorithm]\n",
    "    X_train, X_test, y_train, y_test = train_test_split(data_after_selecting_features, target_variables, test_size=TEST_TRAIN_SPLIT, random_state=42)\n",
    "    accuracy = train_and_fit_random_forest(X_train, X_test, y_train, y_test)\n",
    "    print('------------------------------------------------')\n",
    "    print(f'Feature selection method: {feature_selection_method_name}. Accuracy: {accuracy}')"
   ],
   "outputs": [
    {
     "name": "stdout",
     "output_type": "stream",
     "text": [
      "------------------------------------------------\n",
      "Feature selection method: classifier_chi2. Accuracy: 0.20064102564102565\n",
      "------------------------------------------------\n",
      "Feature selection method: classifier_mutual_info_classif. Accuracy: 0.3269230769230769\n",
      "------------------------------------------------\n",
      "Feature selection method: classifier_mutual_info_regression. Accuracy: 0.3121794871794872\n",
      "------------------------------------------------\n",
      "Feature selection method: classifier_f_classif. Accuracy: 0.23333333333333334\n",
      "------------------------------------------------\n",
      "Feature selection method: classifier_f_regression. Accuracy: 0.258974358974359\n"
     ]
    }
   ],
   "execution_count": 23
  }
 ],
 "metadata": {
  "kernelspec": {
   "display_name": "Python 3",
   "language": "python",
   "name": "python3"
  },
  "language_info": {
   "codemirror_mode": {
    "name": "ipython",
    "version": 2
   },
   "file_extension": ".py",
   "mimetype": "text/x-python",
   "name": "python",
   "nbconvert_exporter": "python",
   "pygments_lexer": "ipython2",
   "version": "2.7.6"
  }
 },
 "nbformat": 4,
 "nbformat_minor": 5
}
